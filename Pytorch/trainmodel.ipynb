{
 "cells": [
  {
   "cell_type": "code",
   "id": "19ce7749",
   "metadata": {
    "ExecuteTime": {
     "end_time": "2025-04-21T09:52:11.045886Z",
     "start_time": "2025-04-21T09:52:11.041412Z"
    }
   },
   "source": [
    "import os\n",
    "import numpy as np\n",
    "import pandas as pd\n",
    "from PIL import Image\n",
    "from tqdm import tqdm\n",
    "import matplotlib.pyplot as plt\n",
    "\n",
    "import torch\n",
    "import torch.nn as nn\n",
    "import torch.optim as optim\n",
    "import torch.nn.functional as F\n",
    "from torch.utils.data import Dataset, DataLoader\n",
    "from torchvision import transforms"
   ],
   "outputs": [],
   "execution_count": 32
  },
  {
   "cell_type": "code",
   "id": "02e9c221",
   "metadata": {
    "ExecuteTime": {
     "end_time": "2025-04-21T09:52:11.057822Z",
     "start_time": "2025-04-21T09:52:11.051885Z"
    }
   },
   "source": [
    "TRAIN_DIR = 'images/train'\n",
    "TEST_DIR = 'images/test'\n",
    "IMAGE_SIZE = 48\n",
    "BATCH_SIZE = 64\n",
    "NUM_EPOCHS = 30\n",
    "LEARNING_RATE = 0.001\n",
    "DEVICE = torch.device('cuda' if torch.cuda.is_available() else 'cpu')\n",
    "print(DEVICE)\n",
    "\n",
    "EMOTIONS = ['angry', 'disgust', 'fear', 'happy', 'neutral', 'sad', 'surprise']"
   ],
   "outputs": [
    {
     "name": "stdout",
     "output_type": "stream",
     "text": [
      "cuda\n"
     ]
    }
   ],
   "execution_count": 33
  },
  {
   "metadata": {
    "ExecuteTime": {
     "end_time": "2025-04-21T09:52:11.067536Z",
     "start_time": "2025-04-21T09:52:11.063885Z"
    }
   },
   "cell_type": "code",
   "source": [
    "class EmotionDataset(Dataset):\n",
    "    def __init__(self, image_paths, labels, transform=None):\n",
    "        self.image_paths = image_paths\n",
    "        self.labels = labels\n",
    "        self.transform = transform\n",
    "\n",
    "    def __len__(self):\n",
    "        return len(self.image_paths)\n",
    "\n",
    "    def __getitem__(self, idx):\n",
    "        img_path = self.image_paths[idx]\n",
    "        image = Image.open(img_path).convert('L')\n",
    "\n",
    "        if self.transform:\n",
    "            image = self.transform(image)\n",
    "\n",
    "        label = self.labels[idx]\n",
    "        return image, label"
   ],
   "id": "6f3ba4203d84b610",
   "outputs": [],
   "execution_count": 34
  },
  {
   "cell_type": "code",
   "id": "ede9c1f1",
   "metadata": {
    "ExecuteTime": {
     "end_time": "2025-04-21T09:52:11.083867Z",
     "start_time": "2025-04-21T09:52:11.080864Z"
    }
   },
   "source": [
    "def create_dataframe(dir):\n",
    "    image_paths = []\n",
    "    labels = []\n",
    "    for label in os.listdir(dir):\n",
    "        label_dir = os.path.join(dir, label)\n",
    "        if os.path.isdir(label_dir):  # Ensure it's a directory\n",
    "            for image_name in os.listdir(label_dir):\n",
    "                image_paths.append(os.path.join(dir, label, image_name))\n",
    "                labels.append(label)\n",
    "            print(f\"{label} completed\")\n",
    "    return image_paths, labels"
   ],
   "outputs": [],
   "execution_count": 35
  },
  {
   "metadata": {
    "ExecuteTime": {
     "end_time": "2025-04-21T09:52:11.090224Z",
     "start_time": "2025-04-21T09:52:11.085869Z"
    }
   },
   "cell_type": "code",
   "source": [
    "def get_label_idx(label_name):\n",
    "    return EMOTIONS.index(label_name)"
   ],
   "id": "8909e632f83686e6",
   "outputs": [],
   "execution_count": 36
  },
  {
   "metadata": {
    "ExecuteTime": {
     "end_time": "2025-04-21T09:52:11.098594Z",
     "start_time": "2025-04-21T09:52:11.096186Z"
    }
   },
   "cell_type": "code",
   "source": [
    "transform = transforms.Compose([\n",
    "    transforms.Resize((IMAGE_SIZE, IMAGE_SIZE)),\n",
    "    transforms.ToTensor(),\n",
    "    transforms.Normalize(mean=[0.5], std=[0.5])\n",
    "])"
   ],
   "id": "eed5efa61d240cbb",
   "outputs": [],
   "execution_count": 37
  },
  {
   "metadata": {
    "ExecuteTime": {
     "end_time": "2025-04-21T09:52:11.107320Z",
     "start_time": "2025-04-21T09:52:11.103696Z"
    }
   },
   "cell_type": "code",
   "source": [
    "# Create datasets and loaders\n",
    "def create_datasets():\n",
    "    # Get train data\n",
    "    train_image_paths, train_label_names = create_dataframe(TRAIN_DIR)\n",
    "    train_labels = [get_label_idx(label) for label in train_label_names]\n",
    "\n",
    "    # Get test data\n",
    "    test_image_paths, test_label_names = create_dataframe(TEST_DIR)\n",
    "    test_labels = [get_label_idx(label) for label in test_label_names]\n",
    "\n",
    "    # Create datasets\n",
    "    train_dataset = EmotionDataset(train_image_paths, train_labels, transform)\n",
    "    test_dataset = EmotionDataset(test_image_paths, test_labels, transform)\n",
    "\n",
    "    # Create data loaders\n",
    "    train_loader = DataLoader(train_dataset, batch_size=BATCH_SIZE, shuffle=True)\n",
    "    test_loader = DataLoader(test_dataset, batch_size=BATCH_SIZE, shuffle=False)\n",
    "\n",
    "    return train_loader, test_loader"
   ],
   "id": "23117ef3633c802d",
   "outputs": [],
   "execution_count": 38
  },
  {
   "metadata": {
    "ExecuteTime": {
     "end_time": "2025-04-21T09:52:11.117881Z",
     "start_time": "2025-04-21T09:52:11.112757Z"
    }
   },
   "cell_type": "code",
   "source": [
    "class EmotionCNN(nn.Module):\n",
    "    def __init__(self, num_classes=7):\n",
    "        super(EmotionCNN, self).__init__()\n",
    "\n",
    "        # Convolutional layers\n",
    "        self.conv1 = nn.Conv2d(1, 128, kernel_size=3, padding=1)\n",
    "        self.pool1 = nn.MaxPool2d(kernel_size=2, stride=2)\n",
    "        self.dropout1 = nn.Dropout(0.2)\n",
    "\n",
    "        self.conv2 = nn.Conv2d(128, 256, kernel_size=3, padding=1)\n",
    "        self.pool2 = nn.MaxPool2d(kernel_size=2, stride=2)\n",
    "        self.dropout2 = nn.Dropout(0.2)\n",
    "\n",
    "        self.conv3 = nn.Conv2d(256, 512, kernel_size=3, padding=1)\n",
    "        self.pool3 = nn.MaxPool2d(kernel_size=2, stride=2)\n",
    "        self.dropout3 = nn.Dropout(0.2)\n",
    "\n",
    "        # Calculate the size after convolutions\n",
    "        # After 3 pooling layers of stride 2, the 48x48 image becomes 6x6\n",
    "        self.flat_features = 512 * 6 * 6\n",
    "\n",
    "        # Fully connected layers\n",
    "        self.fc1 = nn.Linear(self.flat_features, 512)\n",
    "        self.dropout4 = nn.Dropout(0.2)\n",
    "        self.fc2 = nn.Linear(512, 256)\n",
    "        self.dropout5 = nn.Dropout(0.2)\n",
    "        self.fc3 = nn.Linear(256, num_classes)\n",
    "\n",
    "    def forward(self, x):\n",
    "        # Convolutional layers\n",
    "        x = F.relu(self.conv1(x))\n",
    "        x = self.pool1(x)\n",
    "        x = self.dropout1(x)\n",
    "\n",
    "        x = F.relu(self.conv2(x))\n",
    "        x = self.pool2(x)\n",
    "        x = self.dropout2(x)\n",
    "\n",
    "        x = F.relu(self.conv3(x))\n",
    "        x = self.pool3(x)\n",
    "        x = self.dropout3(x)\n",
    "\n",
    "        # Flatten\n",
    "        x = x.view(-1, self.flat_features)\n",
    "\n",
    "        # Fully connected layers\n",
    "        x = F.relu(self.fc1(x))\n",
    "        x = self.dropout4(x)\n",
    "        x = F.relu(self.fc2(x))\n",
    "        x = self.dropout5(x)\n",
    "        x = self.fc3(x)\n",
    "\n",
    "        return x"
   ],
   "id": "68410c0d22248619",
   "outputs": [],
   "execution_count": 39
  },
  {
   "cell_type": "code",
   "id": "b005764f",
   "metadata": {
    "ExecuteTime": {
     "end_time": "2025-04-21T09:52:11.128945Z",
     "start_time": "2025-04-21T09:52:11.123350Z"
    }
   },
   "source": [
    "def train_model(model, train_loader, test_loader, criterion, optimizer, num_epochs):\n",
    "    best_accuracy = 0.0\n",
    "\n",
    "    for epoch in range(num_epochs):\n",
    "        # Training phase\n",
    "        model.train()\n",
    "        running_loss = 0.0\n",
    "        correct = 0\n",
    "        total = 0\n",
    "\n",
    "        for inputs, labels in tqdm(train_loader, desc=f'Epoch {epoch+1}/{num_epochs}'):\n",
    "            inputs = inputs.to(DEVICE)\n",
    "            labels = labels.to(DEVICE)\n",
    "\n",
    "            # Zero the parameter gradients\n",
    "            optimizer.zero_grad()\n",
    "\n",
    "            # Forward pass\n",
    "            outputs = model(inputs)\n",
    "            loss = criterion(outputs, labels)\n",
    "\n",
    "            # Backward pass and optimize\n",
    "            loss.backward()\n",
    "            optimizer.step()\n",
    "\n",
    "            # Statistics\n",
    "            running_loss += loss.item() * inputs.size(0)\n",
    "            _, predicted = torch.max(outputs, 1)\n",
    "            total += labels.size(0)\n",
    "            correct += (predicted == labels).sum().item()\n",
    "\n",
    "        epoch_loss = running_loss / len(train_loader.dataset)\n",
    "        epoch_acc = correct / total\n",
    "\n",
    "        # Validation phase\n",
    "        model.eval()\n",
    "        val_loss = 0.0\n",
    "        val_correct = 0\n",
    "        val_total = 0\n",
    "\n",
    "        with torch.no_grad():\n",
    "            for inputs, labels in tqdm(test_loader, desc='Validation'):\n",
    "                inputs = inputs.to(DEVICE)\n",
    "                labels = labels.to(DEVICE)\n",
    "\n",
    "                outputs = model(inputs)\n",
    "                loss = criterion(outputs, labels)\n",
    "\n",
    "                val_loss += loss.item() * inputs.size(0)\n",
    "                _, predicted = torch.max(outputs, 1)\n",
    "                val_total += labels.size(0)\n",
    "                val_correct += (predicted == labels).sum().item()\n",
    "\n",
    "        val_loss = val_loss / len(test_loader.dataset)\n",
    "        val_acc = val_correct / val_total\n",
    "\n",
    "        print(f'Epoch {epoch+1}/{num_epochs}:')\n",
    "        print(f'Train Loss: {epoch_loss:.4f} | Train Acc: {epoch_acc:.4f}')\n",
    "        print(f'Val Loss: {val_loss:.4f} | Val Acc: {val_acc:.4f}')\n",
    "\n",
    "        # Save best model\n",
    "        if val_acc > best_accuracy:\n",
    "            best_accuracy = val_acc\n",
    "            torch.save(model.state_dict(), 'emotion_model.pth')\n",
    "            print(f'Model saved with accuracy: {best_accuracy:.4f}')\n",
    "\n",
    "    print(f'Best validation accuracy: {best_accuracy:.4f}')"
   ],
   "outputs": [],
   "execution_count": 40
  },
  {
   "metadata": {
    "ExecuteTime": {
     "end_time": "2025-04-21T09:52:11.137153Z",
     "start_time": "2025-04-21T09:52:11.133958Z"
    }
   },
   "cell_type": "code",
   "source": [
    "def predict_emotion(model, image_path):\n",
    "    model.eval()\n",
    "\n",
    "    # Open and preprocess the image\n",
    "    image = Image.open(image_path).convert('L')  # Convert to grayscale\n",
    "    image = transform(image).unsqueeze(0).to(DEVICE)  # Add batch dimension\n",
    "\n",
    "    # Make prediction\n",
    "    with torch.no_grad():\n",
    "        outputs = model(image)\n",
    "        _, predicted = torch.max(outputs, 1)\n",
    "\n",
    "    return EMOTIONS[predicted.item()]"
   ],
   "id": "34db366fbbfde0c5",
   "outputs": [],
   "execution_count": 41
  },
  {
   "metadata": {
    "ExecuteTime": {
     "end_time": "2025-04-21T10:03:26.304477Z",
     "start_time": "2025-04-21T09:52:11.142674Z"
    }
   },
   "cell_type": "code",
   "source": [
    "def main():\n",
    "    print(f\"Using device: {DEVICE}\")\n",
    "\n",
    "    # Create data loaders\n",
    "    train_loader, test_loader = create_datasets()\n",
    "\n",
    "    # Initialize model\n",
    "    model = EmotionCNN().to(DEVICE)\n",
    "\n",
    "    # Loss function and optimizer\n",
    "    criterion = nn.CrossEntropyLoss()\n",
    "    optimizer = optim.Adam(model.parameters(), lr=LEARNING_RATE)\n",
    "\n",
    "    # Train model\n",
    "    train_model(model, train_loader, test_loader, criterion, optimizer, NUM_EPOCHS)\n",
    "\n",
    "    # Load best model\n",
    "    model.load_state_dict(torch.load('emotion_model.pth'))\n",
    "\n",
    "    # Test some example images\n",
    "    test_images = [\n",
    "        'images/train/sad/42.jpg',\n",
    "        'images/train/fear/2.jpg',\n",
    "        'images/train/disgust/299.jpg',\n",
    "        'images/train/happy/7.jpg',\n",
    "        'images/train/surprise/15.jpg'\n",
    "    ]\n",
    "\n",
    "    for image_path in test_images:\n",
    "        true_label = image_path.split('/')[-2]\n",
    "        predicted_label = predict_emotion(model, image_path)\n",
    "\n",
    "        # Display image with prediction\n",
    "        img = Image.open(image_path).convert('L')\n",
    "        plt.imshow(img, cmap='gray')\n",
    "        plt.title(f'True: {true_label} | Predicted: {predicted_label}')\n",
    "        plt.show()\n",
    "        print(f\"Original image is of {true_label}\")\n",
    "        print(f\"Model prediction is {predicted_label}\")\n",
    "\n",
    "if __name__ == \"__main__\":\n",
    "    main()"
   ],
   "id": "b1304bb7fb9eeb50",
   "outputs": [
    {
     "name": "stdout",
     "output_type": "stream",
     "text": [
      "Using device: cuda\n",
      "angry completed\n",
      "disgust completed\n",
      "fear completed\n",
      "happy completed\n",
      "neutral completed\n",
      "sad completed\n",
      "surprise completed\n",
      "angry completed\n",
      "disgust completed\n",
      "fear completed\n",
      "happy completed\n",
      "neutral completed\n",
      "sad completed\n",
      "surprise completed\n"
     ]
    },
    {
     "name": "stderr",
     "output_type": "stream",
     "text": [
      "Epoch 1/30: 100%|██████████| 451/451 [00:19<00:00, 23.22it/s]\n",
      "Validation: 100%|██████████| 111/111 [00:03<00:00, 31.88it/s]\n"
     ]
    },
    {
     "name": "stdout",
     "output_type": "stream",
     "text": [
      "Epoch 1/30:\n",
      "Train Loss: 1.6566 | Train Acc: 0.3367\n",
      "Val Loss: 1.5005 | Val Acc: 0.4172\n",
      "Model saved with accuracy: 0.4172\n"
     ]
    },
    {
     "name": "stderr",
     "output_type": "stream",
     "text": [
      "Epoch 2/30: 100%|██████████| 451/451 [00:18<00:00, 24.11it/s]\n",
      "Validation: 100%|██████████| 111/111 [00:03<00:00, 32.98it/s]\n"
     ]
    },
    {
     "name": "stdout",
     "output_type": "stream",
     "text": [
      "Epoch 2/30:\n",
      "Train Loss: 1.4302 | Train Acc: 0.4468\n",
      "Val Loss: 1.3435 | Val Acc: 0.4812\n",
      "Model saved with accuracy: 0.4812\n"
     ]
    },
    {
     "name": "stderr",
     "output_type": "stream",
     "text": [
      "Epoch 3/30: 100%|██████████| 451/451 [00:18<00:00, 24.15it/s]\n",
      "Validation: 100%|██████████| 111/111 [00:03<00:00, 32.99it/s]\n"
     ]
    },
    {
     "name": "stdout",
     "output_type": "stream",
     "text": [
      "Epoch 3/30:\n",
      "Train Loss: 1.3049 | Train Acc: 0.5021\n",
      "Val Loss: 1.2434 | Val Acc: 0.5263\n",
      "Model saved with accuracy: 0.5263\n"
     ]
    },
    {
     "name": "stderr",
     "output_type": "stream",
     "text": [
      "Epoch 4/30: 100%|██████████| 451/451 [00:18<00:00, 24.12it/s]\n",
      "Validation: 100%|██████████| 111/111 [00:03<00:00, 33.12it/s]\n"
     ]
    },
    {
     "name": "stdout",
     "output_type": "stream",
     "text": [
      "Epoch 4/30:\n",
      "Train Loss: 1.2122 | Train Acc: 0.5362\n",
      "Val Loss: 1.1798 | Val Acc: 0.5471\n",
      "Model saved with accuracy: 0.5471\n"
     ]
    },
    {
     "name": "stderr",
     "output_type": "stream",
     "text": [
      "Epoch 5/30: 100%|██████████| 451/451 [00:18<00:00, 24.23it/s]\n",
      "Validation: 100%|██████████| 111/111 [00:03<00:00, 33.06it/s]\n"
     ]
    },
    {
     "name": "stdout",
     "output_type": "stream",
     "text": [
      "Epoch 5/30:\n",
      "Train Loss: 1.1328 | Train Acc: 0.5705\n",
      "Val Loss: 1.1477 | Val Acc: 0.5637\n",
      "Model saved with accuracy: 0.5637\n"
     ]
    },
    {
     "name": "stderr",
     "output_type": "stream",
     "text": [
      "Epoch 6/30: 100%|██████████| 451/451 [00:18<00:00, 24.34it/s]\n",
      "Validation: 100%|██████████| 111/111 [00:03<00:00, 33.31it/s]\n"
     ]
    },
    {
     "name": "stdout",
     "output_type": "stream",
     "text": [
      "Epoch 6/30:\n",
      "Train Loss: 1.0629 | Train Acc: 0.5945\n",
      "Val Loss: 1.1324 | Val Acc: 0.5705\n",
      "Model saved with accuracy: 0.5705\n"
     ]
    },
    {
     "name": "stderr",
     "output_type": "stream",
     "text": [
      "Epoch 7/30: 100%|██████████| 451/451 [00:18<00:00, 24.33it/s]\n",
      "Validation: 100%|██████████| 111/111 [00:03<00:00, 33.23it/s]\n"
     ]
    },
    {
     "name": "stdout",
     "output_type": "stream",
     "text": [
      "Epoch 7/30:\n",
      "Train Loss: 1.0013 | Train Acc: 0.6217\n",
      "Val Loss: 1.1318 | Val Acc: 0.5716\n",
      "Model saved with accuracy: 0.5716\n"
     ]
    },
    {
     "name": "stderr",
     "output_type": "stream",
     "text": [
      "Epoch 8/30: 100%|██████████| 451/451 [00:18<00:00, 24.34it/s]\n",
      "Validation: 100%|██████████| 111/111 [00:03<00:00, 33.34it/s]\n"
     ]
    },
    {
     "name": "stdout",
     "output_type": "stream",
     "text": [
      "Epoch 8/30:\n",
      "Train Loss: 0.9344 | Train Acc: 0.6466\n",
      "Val Loss: 1.1207 | Val Acc: 0.5892\n",
      "Model saved with accuracy: 0.5892\n"
     ]
    },
    {
     "name": "stderr",
     "output_type": "stream",
     "text": [
      "Epoch 9/30: 100%|██████████| 451/451 [00:18<00:00, 24.31it/s]\n",
      "Validation: 100%|██████████| 111/111 [00:03<00:00, 33.08it/s]\n"
     ]
    },
    {
     "name": "stdout",
     "output_type": "stream",
     "text": [
      "Epoch 9/30:\n",
      "Train Loss: 0.8676 | Train Acc: 0.6739\n",
      "Val Loss: 1.1217 | Val Acc: 0.5824\n"
     ]
    },
    {
     "name": "stderr",
     "output_type": "stream",
     "text": [
      "Epoch 10/30: 100%|██████████| 451/451 [00:19<00:00, 23.34it/s]\n",
      "Validation: 100%|██████████| 111/111 [00:03<00:00, 31.81it/s]\n"
     ]
    },
    {
     "name": "stdout",
     "output_type": "stream",
     "text": [
      "Epoch 10/30:\n",
      "Train Loss: 0.8116 | Train Acc: 0.6978\n",
      "Val Loss: 1.1402 | Val Acc: 0.5848\n"
     ]
    },
    {
     "name": "stderr",
     "output_type": "stream",
     "text": [
      "Epoch 11/30: 100%|██████████| 451/451 [00:19<00:00, 22.93it/s]\n",
      "Validation: 100%|██████████| 111/111 [00:03<00:00, 31.94it/s]\n"
     ]
    },
    {
     "name": "stdout",
     "output_type": "stream",
     "text": [
      "Epoch 11/30:\n",
      "Train Loss: 0.7552 | Train Acc: 0.7178\n",
      "Val Loss: 1.1395 | Val Acc: 0.5920\n",
      "Model saved with accuracy: 0.5920\n"
     ]
    },
    {
     "name": "stderr",
     "output_type": "stream",
     "text": [
      "Epoch 12/30: 100%|██████████| 451/451 [00:19<00:00, 23.28it/s]\n",
      "Validation: 100%|██████████| 111/111 [00:03<00:00, 32.33it/s]\n"
     ]
    },
    {
     "name": "stdout",
     "output_type": "stream",
     "text": [
      "Epoch 12/30:\n",
      "Train Loss: 0.7081 | Train Acc: 0.7381\n",
      "Val Loss: 1.1530 | Val Acc: 0.5903\n"
     ]
    },
    {
     "name": "stderr",
     "output_type": "stream",
     "text": [
      "Epoch 13/30: 100%|██████████| 451/451 [00:19<00:00, 23.57it/s]\n",
      "Validation: 100%|██████████| 111/111 [00:03<00:00, 31.64it/s]\n"
     ]
    },
    {
     "name": "stdout",
     "output_type": "stream",
     "text": [
      "Epoch 13/30:\n",
      "Train Loss: 0.6646 | Train Acc: 0.7531\n",
      "Val Loss: 1.1724 | Val Acc: 0.5968\n",
      "Model saved with accuracy: 0.5968\n"
     ]
    },
    {
     "name": "stderr",
     "output_type": "stream",
     "text": [
      "Epoch 14/30: 100%|██████████| 451/451 [00:19<00:00, 23.56it/s]\n",
      "Validation: 100%|██████████| 111/111 [00:03<00:00, 32.76it/s]\n"
     ]
    },
    {
     "name": "stdout",
     "output_type": "stream",
     "text": [
      "Epoch 14/30:\n",
      "Train Loss: 0.6213 | Train Acc: 0.7728\n",
      "Val Loss: 1.2019 | Val Acc: 0.5893\n"
     ]
    },
    {
     "name": "stderr",
     "output_type": "stream",
     "text": [
      "Epoch 15/30: 100%|██████████| 451/451 [00:18<00:00, 23.86it/s]\n",
      "Validation: 100%|██████████| 111/111 [00:03<00:00, 32.73it/s]\n"
     ]
    },
    {
     "name": "stdout",
     "output_type": "stream",
     "text": [
      "Epoch 15/30:\n",
      "Train Loss: 0.5928 | Train Acc: 0.7810\n",
      "Val Loss: 1.2094 | Val Acc: 0.5969\n",
      "Model saved with accuracy: 0.5969\n"
     ]
    },
    {
     "name": "stderr",
     "output_type": "stream",
     "text": [
      "Epoch 16/30: 100%|██████████| 451/451 [00:18<00:00, 23.83it/s]\n",
      "Validation: 100%|██████████| 111/111 [00:03<00:00, 31.81it/s]\n"
     ]
    },
    {
     "name": "stdout",
     "output_type": "stream",
     "text": [
      "Epoch 16/30:\n",
      "Train Loss: 0.5561 | Train Acc: 0.7963\n",
      "Val Loss: 1.2298 | Val Acc: 0.5979\n",
      "Model saved with accuracy: 0.5979\n"
     ]
    },
    {
     "name": "stderr",
     "output_type": "stream",
     "text": [
      "Epoch 17/30: 100%|██████████| 451/451 [00:19<00:00, 23.69it/s]\n",
      "Validation: 100%|██████████| 111/111 [00:03<00:00, 32.57it/s]\n"
     ]
    },
    {
     "name": "stdout",
     "output_type": "stream",
     "text": [
      "Epoch 17/30:\n",
      "Train Loss: 0.5209 | Train Acc: 0.8103\n",
      "Val Loss: 1.2657 | Val Acc: 0.5982\n",
      "Model saved with accuracy: 0.5982\n"
     ]
    },
    {
     "name": "stderr",
     "output_type": "stream",
     "text": [
      "Epoch 18/30: 100%|██████████| 451/451 [00:18<00:00, 23.87it/s]\n",
      "Validation: 100%|██████████| 111/111 [00:03<00:00, 32.62it/s]\n"
     ]
    },
    {
     "name": "stdout",
     "output_type": "stream",
     "text": [
      "Epoch 18/30:\n",
      "Train Loss: 0.4964 | Train Acc: 0.8184\n",
      "Val Loss: 1.2533 | Val Acc: 0.5951\n"
     ]
    },
    {
     "name": "stderr",
     "output_type": "stream",
     "text": [
      "Epoch 19/30: 100%|██████████| 451/451 [00:18<00:00, 23.76it/s]\n",
      "Validation: 100%|██████████| 111/111 [00:03<00:00, 32.20it/s]\n"
     ]
    },
    {
     "name": "stdout",
     "output_type": "stream",
     "text": [
      "Epoch 19/30:\n",
      "Train Loss: 0.4836 | Train Acc: 0.8249\n",
      "Val Loss: 1.2919 | Val Acc: 0.5968\n"
     ]
    },
    {
     "name": "stderr",
     "output_type": "stream",
     "text": [
      "Epoch 20/30: 100%|██████████| 451/451 [00:18<00:00, 23.86it/s]\n",
      "Validation: 100%|██████████| 111/111 [00:03<00:00, 32.43it/s]\n"
     ]
    },
    {
     "name": "stdout",
     "output_type": "stream",
     "text": [
      "Epoch 20/30:\n",
      "Train Loss: 0.4649 | Train Acc: 0.8331\n",
      "Val Loss: 1.3257 | Val Acc: 0.5899\n"
     ]
    },
    {
     "name": "stderr",
     "output_type": "stream",
     "text": [
      "Epoch 21/30: 100%|██████████| 451/451 [00:18<00:00, 23.86it/s]\n",
      "Validation: 100%|██████████| 111/111 [00:03<00:00, 30.05it/s]\n"
     ]
    },
    {
     "name": "stdout",
     "output_type": "stream",
     "text": [
      "Epoch 21/30:\n",
      "Train Loss: 0.4388 | Train Acc: 0.8407\n",
      "Val Loss: 1.3817 | Val Acc: 0.5992\n",
      "Model saved with accuracy: 0.5992\n"
     ]
    },
    {
     "name": "stderr",
     "output_type": "stream",
     "text": [
      "Epoch 22/30: 100%|██████████| 451/451 [00:19<00:00, 23.14it/s]\n",
      "Validation: 100%|██████████| 111/111 [00:03<00:00, 32.87it/s]\n"
     ]
    },
    {
     "name": "stdout",
     "output_type": "stream",
     "text": [
      "Epoch 22/30:\n",
      "Train Loss: 0.4313 | Train Acc: 0.8464\n",
      "Val Loss: 1.3297 | Val Acc: 0.5950\n"
     ]
    },
    {
     "name": "stderr",
     "output_type": "stream",
     "text": [
      "Epoch 23/30: 100%|██████████| 451/451 [00:19<00:00, 23.38it/s]\n",
      "Validation: 100%|██████████| 111/111 [00:03<00:00, 31.82it/s]\n"
     ]
    },
    {
     "name": "stdout",
     "output_type": "stream",
     "text": [
      "Epoch 23/30:\n",
      "Train Loss: 0.4093 | Train Acc: 0.8500\n",
      "Val Loss: 1.3382 | Val Acc: 0.5923\n"
     ]
    },
    {
     "name": "stderr",
     "output_type": "stream",
     "text": [
      "Epoch 24/30: 100%|██████████| 451/451 [00:19<00:00, 23.57it/s]\n",
      "Validation: 100%|██████████| 111/111 [00:03<00:00, 32.16it/s]\n"
     ]
    },
    {
     "name": "stdout",
     "output_type": "stream",
     "text": [
      "Epoch 24/30:\n",
      "Train Loss: 0.4017 | Train Acc: 0.8547\n",
      "Val Loss: 1.3699 | Val Acc: 0.5930\n"
     ]
    },
    {
     "name": "stderr",
     "output_type": "stream",
     "text": [
      "Epoch 25/30: 100%|██████████| 451/451 [00:19<00:00, 23.51it/s]\n",
      "Validation: 100%|██████████| 111/111 [00:03<00:00, 32.21it/s]\n"
     ]
    },
    {
     "name": "stdout",
     "output_type": "stream",
     "text": [
      "Epoch 25/30:\n",
      "Train Loss: 0.3805 | Train Acc: 0.8643\n",
      "Val Loss: 1.4095 | Val Acc: 0.5992\n"
     ]
    },
    {
     "name": "stderr",
     "output_type": "stream",
     "text": [
      "Epoch 26/30: 100%|██████████| 451/451 [00:19<00:00, 23.20it/s]\n",
      "Validation: 100%|██████████| 111/111 [00:03<00:00, 32.43it/s]\n"
     ]
    },
    {
     "name": "stdout",
     "output_type": "stream",
     "text": [
      "Epoch 26/30:\n",
      "Train Loss: 0.3741 | Train Acc: 0.8651\n",
      "Val Loss: 1.3869 | Val Acc: 0.6008\n",
      "Model saved with accuracy: 0.6008\n"
     ]
    },
    {
     "name": "stderr",
     "output_type": "stream",
     "text": [
      "Epoch 27/30: 100%|██████████| 451/451 [00:18<00:00, 23.85it/s]\n",
      "Validation: 100%|██████████| 111/111 [00:03<00:00, 32.82it/s]\n"
     ]
    },
    {
     "name": "stdout",
     "output_type": "stream",
     "text": [
      "Epoch 27/30:\n",
      "Train Loss: 0.3587 | Train Acc: 0.8721\n",
      "Val Loss: 1.4101 | Val Acc: 0.5962\n"
     ]
    },
    {
     "name": "stderr",
     "output_type": "stream",
     "text": [
      "Epoch 28/30: 100%|██████████| 451/451 [00:19<00:00, 23.66it/s]\n",
      "Validation: 100%|██████████| 111/111 [00:03<00:00, 32.60it/s]\n"
     ]
    },
    {
     "name": "stdout",
     "output_type": "stream",
     "text": [
      "Epoch 28/30:\n",
      "Train Loss: 0.3502 | Train Acc: 0.8782\n",
      "Val Loss: 1.4778 | Val Acc: 0.5916\n"
     ]
    },
    {
     "name": "stderr",
     "output_type": "stream",
     "text": [
      "Epoch 29/30: 100%|██████████| 451/451 [00:18<00:00, 23.90it/s]\n",
      "Validation: 100%|██████████| 111/111 [00:03<00:00, 32.41it/s]\n"
     ]
    },
    {
     "name": "stdout",
     "output_type": "stream",
     "text": [
      "Epoch 29/30:\n",
      "Train Loss: 0.3449 | Train Acc: 0.8814\n",
      "Val Loss: 1.4405 | Val Acc: 0.5941\n"
     ]
    },
    {
     "name": "stderr",
     "output_type": "stream",
     "text": [
      "Epoch 30/30: 100%|██████████| 451/451 [00:18<00:00, 23.84it/s]\n",
      "Validation: 100%|██████████| 111/111 [00:03<00:00, 32.50it/s]"
     ]
    },
    {
     "name": "stdout",
     "output_type": "stream",
     "text": [
      "Epoch 30/30:\n",
      "Train Loss: 0.3232 | Train Acc: 0.8865\n",
      "Val Loss: 1.4736 | Val Acc: 0.5947\n",
      "Best validation accuracy: 0.6008\n"
     ]
    },
    {
     "name": "stderr",
     "output_type": "stream",
     "text": [
      "\n"
     ]
    },
    {
     "data": {
      "text/plain": [
       "<Figure size 640x480 with 1 Axes>"
      ],
      "image/png": "[encoded data removed]"
     },
     "metadata": {},
     "output_type": "display_data"
    },
    {
     "name": "stdout",
     "output_type": "stream",
     "text": [
      "Original image is of sad\n",
      "Model prediction is sad\n"
     ]
    },
    {
     "data": {
      "text/plain": [
       "<Figure size 640x480 with 1 Axes>"
      ],
      "image/png": "[encoded data removed]"
     },
     "metadata": {},
     "output_type": "display_data"
    },
    {
     "name": "stdout",
     "output_type": "stream",
     "text": [
      "Original image is of fear\n",
      "Model prediction is sad\n"
     ]
    },
    {
     "data": {
      "text/plain": [
       "<Figure size 640x480 with 1 Axes>"
      ],
      "image/png": "[encoded data removed]"
     },
     "metadata": {},
     "output_type": "display_data"
    },
    {
     "name": "stdout",
     "output_type": "stream",
     "text": [
      "Original image is of disgust\n",
      "Model prediction is disgust\n"
     ]
    },
    {
     "data": {
      "text/plain": [
       "<Figure size 640x480 with 1 Axes>"
      ],
      "image/png": "[encoded data removed]"
     },
     "metadata": {},
     "output_type": "display_data"
    },
    {
     "name": "stdout",
     "output_type": "stream",
     "text": [
      "Original image is of happy\n",
      "Model prediction is happy\n"
     ]
    },
    {
     "data": {
      "text/plain": [
       "<Figure size 640x480 with 1 Axes>"
      ],
      "image/png": "[encoded data removed]"
     },
     "metadata": {},
     "output_type": "display_data"
    },
    {
     "name": "stdout",
     "output_type": "stream",
     "text": [
      "Original image is of surprise\n",
      "Model prediction is surprise\n"
     ]
    }
   ],
   "execution_count": 42
  }
 ],
 "metadata": {
  "kernelspec": {
   "display_name": "Python 3",
   "language": "python",
   "name": "python3"
  },
  "language_info": {
   "codemirror_mode": {
    "name": "ipython",
    "version": 3
   },
   "file_extension": ".py",
   "mimetype": "text/x-python",
   "name": "python",
   "nbconvert_exporter": "python",
   "pygments_lexer": "ipython3",
   "version": "3.12.4"
  }
 },
 "nbformat": 4,
 "nbformat_minor": 5
}
