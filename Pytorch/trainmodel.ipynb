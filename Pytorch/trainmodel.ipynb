{
 "cells": [
  {
   "cell_type": "code",
   "execution_count": 89,
   "id": "19ce7749",
   "metadata": {
    "ExecuteTime": {
     "end_time": "2025-04-21T09:52:11.045886Z",
     "start_time": "2025-04-21T09:52:11.041412Z"
    }
   },
   "outputs": [],
   "source": [
    "import os\n",
    "import numpy as np\n",
    "import pandas as pd\n",
    "from PIL import Image\n",
    "from tqdm import tqdm\n",
    "import matplotlib.pyplot as plt\n",
    "\n",
    "import torch\n",
    "import torch.nn as nn\n",
    "import torch.optim as optim\n",
    "import torch.nn.functional as F\n",
    "from torch.utils.data import Dataset, DataLoader\n",
    "from torchvision import transforms"
   ]
  },
  {
   "cell_type": "code",
   "execution_count": 90,
   "id": "02e9c221",
   "metadata": {
    "ExecuteTime": {
     "end_time": "2025-04-21T09:52:11.057822Z",
     "start_time": "2025-04-21T09:52:11.051885Z"
    }
   },
   "outputs": [
    {
     "name": "stdout",
     "output_type": "stream",
     "text": [
      "cuda\n"
     ]
    }
   ],
   "source": [
    "TRAIN_DIR = 'images/train'\n",
    "TEST_DIR = 'images/test'\n",
    "IMAGE_SIZE = 96\n",
    "BATCH_SIZE = 64\n",
    "NUM_EPOCHS = 30\n",
    "LEARNING_RATE = 0.0016\n",
    "DEVICE = torch.device('cuda' if torch.cuda.is_available() else 'cpu')\n",
    "print(DEVICE)\n",
    "\n",
    "EMOTIONS = ['angry', 'disgust', 'fear', 'happy', 'neutral', 'sad', 'surprise']"
   ]
  },
  {
   "cell_type": "code",
   "execution_count": 91,
   "id": "6f3ba4203d84b610",
   "metadata": {
    "ExecuteTime": {
     "end_time": "2025-04-21T09:52:11.067536Z",
     "start_time": "2025-04-21T09:52:11.063885Z"
    }
   },
   "outputs": [],
   "source": [
    "class EmotionDataset(Dataset):\n",
    "    def __init__(self, image_paths, labels, transform=None):\n",
    "        self.image_paths = image_paths\n",
    "        self.labels = labels\n",
    "        self.transform = transform\n",
    "\n",
    "    def __len__(self):\n",
    "        return len(self.image_paths)\n",
    "\n",
    "    def __getitem__(self, idx):\n",
    "        img_path = self.image_paths[idx]\n",
    "        image = Image.open(img_path).convert('L')\n",
    "\n",
    "        if self.transform:\n",
    "            image = self.transform(image)\n",
    "\n",
    "        label = self.labels[idx]\n",
    "        return image, label"
   ]
  },
  {
   "cell_type": "code",
   "execution_count": 92,
   "id": "ede9c1f1",
   "metadata": {
    "ExecuteTime": {
     "end_time": "2025-04-21T09:52:11.083867Z",
     "start_time": "2025-04-21T09:52:11.080864Z"
    }
   },
   "outputs": [],
   "source": [
    "def create_dataframe(dir):\n",
    "    image_paths = []\n",
    "    labels = []\n",
    "    for label in os.listdir(dir):\n",
    "        label_dir = os.path.join(dir, label)\n",
    "        if os.path.isdir(label_dir):  # Ensure it's a directory\n",
    "            for image_name in os.listdir(label_dir):\n",
    "                image_paths.append(os.path.join(dir, label, image_name))\n",
    "                labels.append(label)\n",
    "            print(f\"{label} completed\")\n",
    "    return image_paths, labels"
   ]
  },
  {
   "cell_type": "code",
   "execution_count": 93,
   "id": "8909e632f83686e6",
   "metadata": {
    "ExecuteTime": {
     "end_time": "2025-04-21T09:52:11.090224Z",
     "start_time": "2025-04-21T09:52:11.085869Z"
    }
   },
   "outputs": [],
   "source": [
    "def get_label_idx(label_name):\n",
    "    return EMOTIONS.index(label_name)"
   ]
  },
  {
   "cell_type": "code",
   "execution_count": 94,
   "id": "eed5efa61d240cbb",
   "metadata": {
    "ExecuteTime": {
     "end_time": "2025-04-21T09:52:11.098594Z",
     "start_time": "2025-04-21T09:52:11.096186Z"
    }
   },
   "outputs": [],
   "source": [
    "transform = transforms.Compose([\n",
    "    transforms.Resize((IMAGE_SIZE, IMAGE_SIZE)),\n",
    "    transforms.ToTensor(),\n",
    "    transforms.Normalize(mean=[0.5], std=[0.5])\n",
    "])"
   ]
  },
  {
   "cell_type": "code",
   "execution_count": 95,
   "id": "23117ef3633c802d",
   "metadata": {
    "ExecuteTime": {
     "end_time": "2025-04-21T09:52:11.107320Z",
     "start_time": "2025-04-21T09:52:11.103696Z"
    }
   },
   "outputs": [],
   "source": [
    "# Create datasets and loaders\n",
    "def create_datasets():\n",
    "    # Get train data\n",
    "    train_image_paths, train_label_names = create_dataframe(TRAIN_DIR)\n",
    "    train_labels = [get_label_idx(label) for label in train_label_names]\n",
    "\n",
    "    # Get test data\n",
    "    test_image_paths, test_label_names = create_dataframe(TEST_DIR)\n",
    "    test_labels = [get_label_idx(label) for label in test_label_names]\n",
    "\n",
    "    # Create datasets\n",
    "    train_dataset = EmotionDataset(train_image_paths, train_labels, transform)\n",
    "    test_dataset = EmotionDataset(test_image_paths, test_labels, transform)\n",
    "\n",
    "    # Create data loaders\n",
    "    train_loader = DataLoader(train_dataset, batch_size=BATCH_SIZE, shuffle=True)\n",
    "    test_loader = DataLoader(test_dataset, batch_size=BATCH_SIZE, shuffle=True)\n",
    "\n",
    "    return train_loader, test_loader"
   ]
  },
  {
   "cell_type": "code",
   "execution_count": 96,
   "id": "68410c0d22248619",
   "metadata": {
    "ExecuteTime": {
     "end_time": "2025-04-21T09:52:11.117881Z",
     "start_time": "2025-04-21T09:52:11.112757Z"
    }
   },
   "outputs": [],
   "source": [
    "class EmotionCNN(nn.Module):\n",
    "    def __init__(self, num_classes=7):\n",
    "        super(EmotionCNN, self).__init__()\n",
    "\n",
    "        # Convolutional layers\n",
    "        self.conv1 = nn.Conv2d(1, 128, kernel_size=3, padding=1)\n",
    "        self.pool1 = nn.MaxPool2d(kernel_size=2, stride=2)\n",
    "        self.dropout1 = nn.Dropout(0.2)\n",
    "\n",
    "        self.conv2 = nn.Conv2d(128, 256, kernel_size=3, padding=1)\n",
    "        self.pool2 = nn.MaxPool2d(kernel_size=2, stride=2)\n",
    "        self.dropout2 = nn.Dropout(0.2)\n",
    "\n",
    "        self.conv3 = nn.Conv2d(256, 512, kernel_size=3, padding=1)\n",
    "        self.pool3 = nn.MaxPool2d(kernel_size=2, stride=2)\n",
    "        self.dropout3 = nn.Dropout(0.2)\n",
    "\n",
    "        # Calculate the size after convolutions\n",
    "        # After 3 pooling layers of stride 2, the 48x48 image becomes 6x6\n",
    "        self.flat_features = 512 * 12 * 12\n",
    "\n",
    "        # Fully connected layers\n",
    "        self.fc1 = nn.Linear(self.flat_features, 512)\n",
    "        self.dropout4 = nn.Dropout(0.2)\n",
    "        self.fc2 = nn.Linear(512, 256)\n",
    "        self.dropout5 = nn.Dropout(0.2)\n",
    "        self.fc3 = nn.Linear(256, num_classes)\n",
    "\n",
    "    def forward(self, x):\n",
    "        # Convolutional layers\n",
    "        x = F.relu(self.conv1(x))\n",
    "        x = self.pool1(x)\n",
    "        x = self.dropout1(x)\n",
    "\n",
    "        x = F.relu(self.conv2(x))\n",
    "        x = self.pool2(x)\n",
    "        x = self.dropout2(x)\n",
    "\n",
    "        x = F.relu(self.conv3(x))\n",
    "        x = self.pool3(x)\n",
    "        x = self.dropout3(x)\n",
    "\n",
    "        # Flatten\n",
    "        x = x.view(-1, self.flat_features)\n",
    "\n",
    "        # Fully connected layers\n",
    "        x = F.relu(self.fc1(x))\n",
    "        x = self.dropout4(x)\n",
    "        x = F.relu(self.fc2(x))\n",
    "        x = self.dropout5(x)\n",
    "        x = self.fc3(x)\n",
    "\n",
    "        return x"
   ]
  },
  {
   "cell_type": "code",
   "execution_count": 97,
   "id": "b005764f",
   "metadata": {
    "ExecuteTime": {
     "end_time": "2025-04-21T09:52:11.128945Z",
     "start_time": "2025-04-21T09:52:11.123350Z"
    }
   },
   "outputs": [],
   "source": [
    "def train_model(model, train_loader, test_loader, criterion, optimizer, num_epochs):\n",
    "    best_accuracy = 0.0\n",
    "\n",
    "    for epoch in range(num_epochs):\n",
    "        # Training phase\n",
    "        model.train()\n",
    "        running_loss = 0.0\n",
    "        correct = 0\n",
    "        total = 0\n",
    "\n",
    "        for inputs, labels in tqdm(train_loader, desc=f'Epoch {epoch+1}/{num_epochs}'):\n",
    "            inputs = inputs.to(DEVICE)\n",
    "            labels = labels.to(DEVICE)\n",
    "\n",
    "            # Zero the parameter gradients\n",
    "            optimizer.zero_grad()\n",
    "\n",
    "            # Forward pass\n",
    "            outputs = model(inputs)\n",
    "            loss = criterion(outputs, labels)\n",
    "\n",
    "            # Backward pass and optimize\n",
    "            loss.backward()\n",
    "            optimizer.step()\n",
    "\n",
    "            # Statistics\n",
    "            running_loss += loss.item() * inputs.size(0)\n",
    "            _, predicted = torch.max(outputs, 1)\n",
    "            total += labels.size(0)\n",
    "            correct += (predicted == labels).sum().item()\n",
    "\n",
    "        epoch_loss = running_loss / len(train_loader.dataset)\n",
    "        epoch_acc = correct / total\n",
    "\n",
    "        # Validation phase\n",
    "        model.eval()\n",
    "        val_loss = 0.0\n",
    "        val_correct = 0\n",
    "        val_total = 0\n",
    "\n",
    "        with torch.no_grad():\n",
    "            for inputs, labels in tqdm(test_loader, desc='Validation'):\n",
    "                inputs = inputs.to(DEVICE)\n",
    "                labels = labels.to(DEVICE)\n",
    "\n",
    "                outputs = model(inputs)\n",
    "                loss = criterion(outputs, labels)\n",
    "\n",
    "                val_loss += loss.item() * inputs.size(0)\n",
    "                _, predicted = torch.max(outputs, 1)\n",
    "                val_total += labels.size(0)\n",
    "                val_correct += (predicted == labels).sum().item()\n",
    "\n",
    "        val_loss = val_loss / len(test_loader.dataset)\n",
    "        val_acc = val_correct / val_total\n",
    "\n",
    "        print(f'Epoch {epoch+1}/{num_epochs}:')\n",
    "        print(f'Train Loss: {epoch_loss:.4f} | Train Acc: {epoch_acc:.4f}')\n",
    "        print(f'Val Loss: {val_loss:.4f} | Val Acc: {val_acc:.4f}')\n",
    "\n",
    "        # Save best model\n",
    "        if val_acc > best_accuracy:\n",
    "            best_accuracy = val_acc\n",
    "            torch.save(model.state_dict(), 'emotion_model.pth')\n",
    "            print(f'Model saved with accuracy: {best_accuracy:.4f}')\n",
    "\n",
    "    print(f'Best validation accuracy: {best_accuracy:.4f}')"
   ]
  },
  {
   "cell_type": "code",
   "execution_count": 98,
   "id": "34db366fbbfde0c5",
   "metadata": {
    "ExecuteTime": {
     "end_time": "2025-04-21T09:52:11.137153Z",
     "start_time": "2025-04-21T09:52:11.133958Z"
    }
   },
   "outputs": [],
   "source": [
    "def predict_emotion(model, image_path):\n",
    "    model.eval()\n",
    "\n",
    "    # Open and preprocess the image\n",
    "    image = Image.open(image_path).convert('L')  # Convert to grayscale\n",
    "    image = transform(image).unsqueeze(0).to(DEVICE)  # Add batch dimension\n",
    "\n",
    "    # Make prediction\n",
    "    with torch.no_grad():\n",
    "        outputs = model(image)\n",
    "        _, predicted = torch.max(outputs, 1)\n",
    "\n",
    "    return EMOTIONS[predicted.item()]"
   ]
  },
  {
   "cell_type": "code",
   "execution_count": 99,
   "id": "b1304bb7fb9eeb50",
   "metadata": {
    "ExecuteTime": {
     "end_time": "2025-04-21T10:03:26.304477Z",
     "start_time": "2025-04-21T09:52:11.142674Z"
    }
   },
   "outputs": [
    {
     "name": "stdout",
     "output_type": "stream",
     "text": [
      "Using device: cuda\n",
      "angry completed\n",
      "disgust completed\n",
      "fear completed\n",
      "happy completed\n",
      "neutral completed\n",
      "sad completed\n",
      "surprise completed\n",
      "angry completed\n",
      "disgust completed\n",
      "fear completed\n",
      "happy completed\n",
      "neutral completed\n",
      "sad completed\n",
      "surprise completed\n"
     ]
    },
    {
     "name": "stderr",
     "output_type": "stream",
     "text": [
      "Epoch 1/30: 100%|██████████| 451/451 [01:42<00:00,  4.38it/s]\n",
      "Validation: 100%|██████████| 111/111 [00:07<00:00, 14.12it/s]\n"
     ]
    },
    {
     "name": "stdout",
     "output_type": "stream",
     "text": [
      "Epoch 1/30:\n",
      "Train Loss: 1.6970 | Train Acc: 0.3187\n",
      "Val Loss: 1.5411 | Val Acc: 0.4106\n",
      "Model saved with accuracy: 0.4106\n"
     ]
    },
    {
     "name": "stderr",
     "output_type": "stream",
     "text": [
      "Epoch 2/30: 100%|██████████| 451/451 [01:02<00:00,  7.19it/s]\n",
      "Validation: 100%|██████████| 111/111 [00:07<00:00, 14.97it/s]\n"
     ]
    },
    {
     "name": "stdout",
     "output_type": "stream",
     "text": [
      "Epoch 2/30:\n",
      "Train Loss: 1.4527 | Train Acc: 0.4400\n",
      "Val Loss: 1.3495 | Val Acc: 0.4765\n",
      "Model saved with accuracy: 0.4765\n"
     ]
    },
    {
     "name": "stderr",
     "output_type": "stream",
     "text": [
      "Epoch 3/30: 100%|██████████| 451/451 [01:00<00:00,  7.48it/s]\n",
      "Validation: 100%|██████████| 111/111 [00:07<00:00, 14.95it/s]\n"
     ]
    },
    {
     "name": "stdout",
     "output_type": "stream",
     "text": [
      "Epoch 3/30:\n",
      "Train Loss: 1.3177 | Train Acc: 0.4901\n",
      "Val Loss: 1.2989 | Val Acc: 0.4953\n",
      "Model saved with accuracy: 0.4953\n"
     ]
    },
    {
     "name": "stderr",
     "output_type": "stream",
     "text": [
      "Epoch 4/30: 100%|██████████| 451/451 [01:00<00:00,  7.48it/s]\n",
      "Validation: 100%|██████████| 111/111 [00:07<00:00, 14.77it/s]\n"
     ]
    },
    {
     "name": "stdout",
     "output_type": "stream",
     "text": [
      "Epoch 4/30:\n",
      "Train Loss: 1.2098 | Train Acc: 0.5410\n",
      "Val Loss: 1.2482 | Val Acc: 0.5248\n",
      "Model saved with accuracy: 0.5248\n"
     ]
    },
    {
     "name": "stderr",
     "output_type": "stream",
     "text": [
      "Epoch 5/30: 100%|██████████| 451/451 [01:22<00:00,  5.45it/s]\n",
      "Validation: 100%|██████████| 111/111 [00:07<00:00, 14.15it/s]\n"
     ]
    },
    {
     "name": "stdout",
     "output_type": "stream",
     "text": [
      "Epoch 5/30:\n",
      "Train Loss: 1.1098 | Train Acc: 0.5804\n",
      "Val Loss: 1.2203 | Val Acc: 0.5416\n",
      "Model saved with accuracy: 0.5416\n"
     ]
    },
    {
     "name": "stderr",
     "output_type": "stream",
     "text": [
      "Epoch 6/30: 100%|██████████| 451/451 [01:02<00:00,  7.27it/s]\n",
      "Validation: 100%|██████████| 111/111 [00:07<00:00, 14.33it/s]\n"
     ]
    },
    {
     "name": "stdout",
     "output_type": "stream",
     "text": [
      "Epoch 6/30:\n",
      "Train Loss: 1.0079 | Train Acc: 0.6169\n",
      "Val Loss: 1.2244 | Val Acc: 0.5385\n"
     ]
    },
    {
     "name": "stderr",
     "output_type": "stream",
     "text": [
      "Epoch 7/30: 100%|██████████| 451/451 [01:44<00:00,  4.30it/s]\n",
      "Validation: 100%|██████████| 111/111 [00:07<00:00, 14.85it/s]\n"
     ]
    },
    {
     "name": "stdout",
     "output_type": "stream",
     "text": [
      "Epoch 7/30:\n",
      "Train Loss: 0.9097 | Train Acc: 0.6552\n",
      "Val Loss: 1.2455 | Val Acc: 0.5447\n",
      "Model saved with accuracy: 0.5447\n"
     ]
    },
    {
     "name": "stderr",
     "output_type": "stream",
     "text": [
      "Epoch 8/30: 100%|██████████| 451/451 [01:44<00:00,  4.32it/s]\n",
      "Validation: 100%|██████████| 111/111 [00:07<00:00, 14.72it/s]\n"
     ]
    },
    {
     "name": "stdout",
     "output_type": "stream",
     "text": [
      "Epoch 8/30:\n",
      "Train Loss: 0.8115 | Train Acc: 0.6973\n",
      "Val Loss: 1.2568 | Val Acc: 0.5531\n",
      "Model saved with accuracy: 0.5531\n"
     ]
    },
    {
     "name": "stderr",
     "output_type": "stream",
     "text": [
      "Epoch 9/30: 100%|██████████| 451/451 [01:36<00:00,  4.69it/s]\n",
      "Validation: 100%|██████████| 111/111 [00:09<00:00, 11.53it/s]\n"
     ]
    },
    {
     "name": "stdout",
     "output_type": "stream",
     "text": [
      "Epoch 9/30:\n",
      "Train Loss: 0.7374 | Train Acc: 0.7253\n",
      "Val Loss: 1.2885 | Val Acc: 0.5514\n"
     ]
    },
    {
     "name": "stderr",
     "output_type": "stream",
     "text": [
      "Epoch 10/30: 100%|██████████| 451/451 [02:10<00:00,  3.46it/s]\n",
      "Validation: 100%|██████████| 111/111 [00:13<00:00,  8.34it/s]\n"
     ]
    },
    {
     "name": "stdout",
     "output_type": "stream",
     "text": [
      "Epoch 10/30:\n",
      "Train Loss: 0.6630 | Train Acc: 0.7585\n",
      "Val Loss: 1.3086 | Val Acc: 0.5548\n",
      "Model saved with accuracy: 0.5548\n"
     ]
    },
    {
     "name": "stderr",
     "output_type": "stream",
     "text": [
      "Epoch 11/30: 100%|██████████| 451/451 [02:07<00:00,  3.55it/s]\n",
      "Validation: 100%|██████████| 111/111 [00:13<00:00,  8.46it/s]\n"
     ]
    },
    {
     "name": "stdout",
     "output_type": "stream",
     "text": [
      "Epoch 11/30:\n",
      "Train Loss: 0.6069 | Train Acc: 0.7786\n",
      "Val Loss: 1.3199 | Val Acc: 0.5508\n"
     ]
    },
    {
     "name": "stderr",
     "output_type": "stream",
     "text": [
      "Epoch 12/30: 100%|██████████| 451/451 [02:14<00:00,  3.37it/s]\n",
      "Validation: 100%|██████████| 111/111 [00:13<00:00,  8.04it/s]\n"
     ]
    },
    {
     "name": "stdout",
     "output_type": "stream",
     "text": [
      "Epoch 12/30:\n",
      "Train Loss: 0.5512 | Train Acc: 0.7994\n",
      "Val Loss: 1.3876 | Val Acc: 0.5495\n"
     ]
    },
    {
     "name": "stderr",
     "output_type": "stream",
     "text": [
      "Epoch 13/30: 100%|██████████| 451/451 [02:14<00:00,  3.35it/s]\n",
      "Validation: 100%|██████████| 111/111 [00:13<00:00,  7.95it/s]\n"
     ]
    },
    {
     "name": "stdout",
     "output_type": "stream",
     "text": [
      "Epoch 13/30:\n",
      "Train Loss: 0.5079 | Train Acc: 0.8181\n",
      "Val Loss: 1.4508 | Val Acc: 0.5538\n"
     ]
    },
    {
     "name": "stderr",
     "output_type": "stream",
     "text": [
      "Epoch 14/30: 100%|██████████| 451/451 [02:16<00:00,  3.31it/s]\n",
      "Validation: 100%|██████████| 111/111 [00:13<00:00,  8.04it/s]\n"
     ]
    },
    {
     "name": "stdout",
     "output_type": "stream",
     "text": [
      "Epoch 14/30:\n",
      "Train Loss: 0.4618 | Train Acc: 0.8340\n",
      "Val Loss: 1.4231 | Val Acc: 0.5563\n",
      "Model saved with accuracy: 0.5563\n"
     ]
    },
    {
     "name": "stderr",
     "output_type": "stream",
     "text": [
      "Epoch 15/30: 100%|██████████| 451/451 [02:13<00:00,  3.38it/s]\n",
      "Validation: 100%|██████████| 111/111 [00:13<00:00,  8.22it/s]\n"
     ]
    },
    {
     "name": "stdout",
     "output_type": "stream",
     "text": [
      "Epoch 15/30:\n",
      "Train Loss: 0.4439 | Train Acc: 0.8413\n",
      "Val Loss: 1.4387 | Val Acc: 0.5573\n",
      "Model saved with accuracy: 0.5573\n"
     ]
    },
    {
     "name": "stderr",
     "output_type": "stream",
     "text": [
      "Epoch 16/30: 100%|██████████| 451/451 [02:08<00:00,  3.52it/s]\n",
      "Validation: 100%|██████████| 111/111 [00:14<00:00,  7.88it/s]\n"
     ]
    },
    {
     "name": "stdout",
     "output_type": "stream",
     "text": [
      "Epoch 16/30:\n",
      "Train Loss: 0.4089 | Train Acc: 0.8578\n",
      "Val Loss: 1.4976 | Val Acc: 0.5511\n"
     ]
    },
    {
     "name": "stderr",
     "output_type": "stream",
     "text": [
      "Epoch 17/30: 100%|██████████| 451/451 [02:05<00:00,  3.60it/s]\n",
      "Validation: 100%|██████████| 111/111 [00:13<00:00,  8.27it/s]\n"
     ]
    },
    {
     "name": "stdout",
     "output_type": "stream",
     "text": [
      "Epoch 17/30:\n",
      "Train Loss: 0.3817 | Train Acc: 0.8682\n",
      "Val Loss: 1.5395 | Val Acc: 0.5563\n"
     ]
    },
    {
     "name": "stderr",
     "output_type": "stream",
     "text": [
      "Epoch 18/30: 100%|██████████| 451/451 [02:13<00:00,  3.38it/s]\n",
      "Validation: 100%|██████████| 111/111 [00:13<00:00,  8.17it/s]\n"
     ]
    },
    {
     "name": "stdout",
     "output_type": "stream",
     "text": [
      "Epoch 18/30:\n",
      "Train Loss: 0.3672 | Train Acc: 0.8731\n",
      "Val Loss: 1.5251 | Val Acc: 0.5536\n"
     ]
    },
    {
     "name": "stderr",
     "output_type": "stream",
     "text": [
      "Epoch 19/30: 100%|██████████| 451/451 [01:45<00:00,  4.26it/s]\n",
      "Validation: 100%|██████████| 111/111 [00:27<00:00,  4.08it/s]\n"
     ]
    },
    {
     "name": "stdout",
     "output_type": "stream",
     "text": [
      "Epoch 19/30:\n",
      "Train Loss: 0.3511 | Train Acc: 0.8794\n",
      "Val Loss: 1.4799 | Val Acc: 0.5604\n",
      "Model saved with accuracy: 0.5604\n"
     ]
    },
    {
     "name": "stderr",
     "output_type": "stream",
     "text": [
      "Epoch 20/30: 100%|██████████| 451/451 [01:56<00:00,  3.89it/s]\n",
      "Validation: 100%|██████████| 111/111 [00:08<00:00, 13.23it/s]\n"
     ]
    },
    {
     "name": "stdout",
     "output_type": "stream",
     "text": [
      "Epoch 20/30:\n",
      "Train Loss: 0.3298 | Train Acc: 0.8871\n",
      "Val Loss: 1.5002 | Val Acc: 0.5539\n"
     ]
    },
    {
     "name": "stderr",
     "output_type": "stream",
     "text": [
      "Epoch 21/30: 100%|██████████| 451/451 [01:20<00:00,  5.60it/s]\n",
      "Validation: 100%|██████████| 111/111 [00:08<00:00, 13.52it/s]\n"
     ]
    },
    {
     "name": "stdout",
     "output_type": "stream",
     "text": [
      "Epoch 21/30:\n",
      "Train Loss: 0.3105 | Train Acc: 0.8936\n",
      "Val Loss: 1.5269 | Val Acc: 0.5491\n"
     ]
    },
    {
     "name": "stderr",
     "output_type": "stream",
     "text": [
      "Epoch 22/30: 100%|██████████| 451/451 [01:34<00:00,  4.77it/s]\n",
      "Validation: 100%|██████████| 111/111 [00:11<00:00,  9.71it/s]\n"
     ]
    },
    {
     "name": "stdout",
     "output_type": "stream",
     "text": [
      "Epoch 22/30:\n",
      "Train Loss: 0.3081 | Train Acc: 0.8946\n",
      "Val Loss: 1.5279 | Val Acc: 0.5579\n"
     ]
    },
    {
     "name": "stderr",
     "output_type": "stream",
     "text": [
      "Epoch 23/30: 100%|██████████| 451/451 [01:53<00:00,  3.96it/s]\n",
      "Validation: 100%|██████████| 111/111 [00:13<00:00,  8.48it/s]\n"
     ]
    },
    {
     "name": "stdout",
     "output_type": "stream",
     "text": [
      "Epoch 23/30:\n",
      "Train Loss: 0.2924 | Train Acc: 0.8997\n",
      "Val Loss: 1.6030 | Val Acc: 0.5548\n"
     ]
    },
    {
     "name": "stderr",
     "output_type": "stream",
     "text": [
      "Epoch 24/30: 100%|██████████| 451/451 [01:41<00:00,  4.46it/s]\n",
      "Validation: 100%|██████████| 111/111 [00:09<00:00, 11.14it/s]\n"
     ]
    },
    {
     "name": "stdout",
     "output_type": "stream",
     "text": [
      "Epoch 24/30:\n",
      "Train Loss: 0.2798 | Train Acc: 0.9046\n",
      "Val Loss: 1.5673 | Val Acc: 0.5566\n"
     ]
    },
    {
     "name": "stderr",
     "output_type": "stream",
     "text": [
      "Epoch 25/30: 100%|██████████| 451/451 [02:07<00:00,  3.54it/s]\n",
      "Validation: 100%|██████████| 111/111 [00:13<00:00,  8.32it/s]\n"
     ]
    },
    {
     "name": "stdout",
     "output_type": "stream",
     "text": [
      "Epoch 25/30:\n",
      "Train Loss: 0.2766 | Train Acc: 0.9048\n",
      "Val Loss: 1.6125 | Val Acc: 0.5543\n"
     ]
    },
    {
     "name": "stderr",
     "output_type": "stream",
     "text": [
      "Epoch 26/30: 100%|██████████| 451/451 [02:12<00:00,  3.41it/s]\n",
      "Validation: 100%|██████████| 111/111 [00:13<00:00,  8.29it/s]\n"
     ]
    },
    {
     "name": "stdout",
     "output_type": "stream",
     "text": [
      "Epoch 26/30:\n",
      "Train Loss: 0.2676 | Train Acc: 0.9109\n",
      "Val Loss: 1.6046 | Val Acc: 0.5575\n"
     ]
    },
    {
     "name": "stderr",
     "output_type": "stream",
     "text": [
      "Epoch 27/30: 100%|██████████| 451/451 [02:11<00:00,  3.44it/s]\n",
      "Validation: 100%|██████████| 111/111 [00:12<00:00,  9.25it/s]\n"
     ]
    },
    {
     "name": "stdout",
     "output_type": "stream",
     "text": [
      "Epoch 27/30:\n",
      "Train Loss: 0.2590 | Train Acc: 0.9129\n",
      "Val Loss: 1.6163 | Val Acc: 0.5592\n"
     ]
    },
    {
     "name": "stderr",
     "output_type": "stream",
     "text": [
      "Epoch 28/30: 100%|██████████| 451/451 [02:08<00:00,  3.50it/s]\n",
      "Validation: 100%|██████████| 111/111 [00:13<00:00,  8.45it/s]\n"
     ]
    },
    {
     "name": "stdout",
     "output_type": "stream",
     "text": [
      "Epoch 28/30:\n",
      "Train Loss: 0.2503 | Train Acc: 0.9153\n",
      "Val Loss: 1.6383 | Val Acc: 0.5590\n"
     ]
    },
    {
     "name": "stderr",
     "output_type": "stream",
     "text": [
      "Epoch 29/30: 100%|██████████| 451/451 [02:01<00:00,  3.70it/s]\n",
      "Validation: 100%|██████████| 111/111 [00:13<00:00,  8.28it/s]\n"
     ]
    },
    {
     "name": "stdout",
     "output_type": "stream",
     "text": [
      "Epoch 29/30:\n",
      "Train Loss: 0.2395 | Train Acc: 0.9195\n",
      "Val Loss: 1.6401 | Val Acc: 0.5517\n"
     ]
    },
    {
     "name": "stderr",
     "output_type": "stream",
     "text": [
      "Epoch 30/30: 100%|██████████| 451/451 [02:08<00:00,  3.50it/s]\n",
      "Validation: 100%|██████████| 111/111 [00:13<00:00,  8.52it/s]\n"
     ]
    },
    {
     "name": "stdout",
     "output_type": "stream",
     "text": [
      "Epoch 30/30:\n",
      "Train Loss: 0.2417 | Train Acc: 0.9195\n",
      "Val Loss: 1.6116 | Val Acc: 0.5553\n",
      "Best validation accuracy: 0.5604\n"
     ]
    },
    {
     "data": {
      "image/png": "[encoded data removed]",
      "text/plain": [
       "<Figure size 640x480 with 1 Axes>"
      ]
     },
     "metadata": {},
     "output_type": "display_data"
    },
    {
     "name": "stdout",
     "output_type": "stream",
     "text": [
      "Original image is of sad\n",
      "Model prediction is sad\n"
     ]
    },
    {
     "data": {
      "image/png": "[encoded data removed]",
      "text/plain": [
       "<Figure size 640x480 with 1 Axes>"
      ]
     },
     "metadata": {},
     "output_type": "display_data"
    },
    {
     "name": "stdout",
     "output_type": "stream",
     "text": [
      "Original image is of fear\n",
      "Model prediction is fear\n"
     ]
    },
    {
     "data": {
      "image/png": "[encoded data removed]",
      "text/plain": [
       "<Figure size 640x480 with 1 Axes>"
      ]
     },
     "metadata": {},
     "output_type": "display_data"
    },
    {
     "name": "stdout",
     "output_type": "stream",
     "text": [
      "Original image is of disgust\n",
      "Model prediction is disgust\n"
     ]
    },
    {
     "data": {
      "image/png": "[encoded data removed]",
      "text/plain": [
       "<Figure size 640x480 with 1 Axes>"
      ]
     },
     "metadata": {},
     "output_type": "display_data"
    },
    {
     "name": "stdout",
     "output_type": "stream",
     "text": [
      "Original image is of happy\n",
      "Model prediction is happy\n"
     ]
    },
    {
     "data": {
      "image/png": "[encoded data removed]",
      "text/plain": [
       "<Figure size 640x480 with 1 Axes>"
      ]
     },
     "metadata": {},
     "output_type": "display_data"
    },
    {
     "name": "stdout",
     "output_type": "stream",
     "text": [
      "Original image is of surprise\n",
      "Model prediction is surprise\n"
     ]
    }
   ],
   "source": [
    "def main():\n",
    "    print(f\"Using device: {DEVICE}\")\n",
    "\n",
    "    # Create data loaders\n",
    "    train_loader, test_loader = create_datasets()\n",
    "\n",
    "    # Initialize model\n",
    "    model = EmotionCNN().to(DEVICE)\n",
    "\n",
    "    # Loss function and optimizer\n",
    "    criterion = nn.CrossEntropyLoss()\n",
    "    optimizer = optim.Adam(model.parameters(), lr=LEARNING_RATE)\n",
    "\n",
    "    # Train model\n",
    "    train_model(model, train_loader, test_loader, criterion, optimizer, NUM_EPOCHS)\n",
    "\n",
    "    # Load best model\n",
    "    model.load_state_dict(torch.load('emotion_model.pth'))\n",
    "\n",
    "    # Test some example images\n",
    "    test_images = [\n",
    "        'images/train/sad/42.jpg',\n",
    "        'images/train/fear/2.jpg',\n",
    "        'images/train/disgust/299.jpg',\n",
    "        'images/train/happy/7.jpg',\n",
    "        'images/train/surprise/15.jpg'\n",
    "    ]\n",
    "\n",
    "    for image_path in test_images:\n",
    "        true_label = image_path.split('/')[-2]\n",
    "        predicted_label = predict_emotion(model, image_path)\n",
    "\n",
    "        # Display image with prediction\n",
    "        img = Image.open(image_path).convert('L')\n",
    "        plt.imshow(img, cmap='gray')\n",
    "        plt.title(f'True: {true_label} | Predicted: {predicted_label}')\n",
    "        plt.show()\n",
    "        print(f\"Original image is of {true_label}\")\n",
    "        print(f\"Model prediction is {predicted_label}\")\n",
    "\n",
    "if __name__ == \"__main__\":\n",
    "    main()"
   ]
  }
 ],
 "metadata": {
  "kernelspec": {
   "display_name": "Python 3",
   "language": "python",
   "name": "python3"
  },
  "language_info": {
   "codemirror_mode": {
    "name": "ipython",
    "version": 3
   },
   "file_extension": ".py",
   "mimetype": "text/x-python",
   "name": "python",
   "nbconvert_exporter": "python",
   "pygments_lexer": "ipython3",
   "version": "3.12.4"
  }
 },
 "nbformat": 4,
 "nbformat_minor": 5
}
