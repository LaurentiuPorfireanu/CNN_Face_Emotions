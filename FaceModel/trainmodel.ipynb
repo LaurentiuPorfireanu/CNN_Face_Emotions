{
 "cells": [
  {
   "cell_type": "code",
   "execution_count": 1,
   "id": "19ce7749",
   "metadata": {
    "ExecuteTime": {
     "end_time": "2025-04-21T09:52:11.045886Z",
     "start_time": "2025-04-21T09:52:11.041412Z"
    }
   },
   "outputs": [],
   "source": [
    "import os\n",
    "import numpy as np\n",
    "import pandas as pd\n",
    "from PIL import Image\n",
    "from tqdm import tqdm\n",
    "import matplotlib.pyplot as plt\n",
    "\n",
    "import torch\n",
    "import torch.nn as nn\n",
    "import torch.optim as optim\n",
    "import torch.nn.functional as F\n",
    "from torch.utils.data import Dataset, DataLoader\n",
    "from torchvision import transforms\n",
    "\n",
    "import matplotlib.pyplot as plt\n",
    "import seaborn as sns\n",
    "from sklearn.metrics import confusion_matrix\n",
    "\n",
    "\n",
    "from typing import List, Optional, Tuple"
   ]
  },
  {
   "cell_type": "code",
   "execution_count": 2,
   "id": "02e9c221",
   "metadata": {
    "ExecuteTime": {
     "end_time": "2025-04-21T09:52:11.057822Z",
     "start_time": "2025-04-21T09:52:11.051885Z"
    }
   },
   "outputs": [
    {
     "name": "stdout",
     "output_type": "stream",
     "text": [
      "cuda\n"
     ]
    }
   ],
   "source": [
    "TRAIN_DIR = 'images/train'\n",
    "TEST_DIR = 'images/test'\n",
    "IMAGE_SIZE = 96\n",
    "BATCH_SIZE = 64\n",
    "NUM_EPOCHS = 30\n",
    "LEARNING_RATE = 0.001\n",
    "DEVICE = torch.device('cuda' if torch.cuda.is_available() else 'cpu')\n",
    "print(DEVICE)\n",
    "\n",
    "EMOTIONS = ['angry', 'disgust', 'fear', 'happy', 'neutral', 'sad', 'surprise']\n",
    "\n",
    "COARSE_EMOTIONS = ['happy', 'fear', 'angry', 'other']\n",
    "FINE_EMOTIONS   = ['neutral', 'disgust', 'sad', 'surprise']\n",
    "\n",
    "\n",
    "coarse_map = {}\n",
    "for e in EMOTIONS:\n",
    "    if e in COARSE_EMOTIONS[:-1]:\n",
    "        coarse_map[e] = COARSE_EMOTIONS.index(e)\n",
    "    else:\n",
    "        coarse_map[e] = COARSE_EMOTIONS.index('other')\n",
    "\n",
    "fine_map = { e:i for i,e in enumerate(FINE_EMOTIONS) }\n",
    "\n",
    "def get_coarse_label_idx(label_name: str) -> int:\n",
    "    return coarse_map[label_name]\n",
    "\n",
    "def get_fine_label_idx(label_name: str) -> int:\n",
    "    return fine_map[label_name]\n",
    "\n"
   ]
  },
  {
   "cell_type": "code",
   "execution_count": 3,
   "id": "6f3ba4203d84b610",
   "metadata": {
    "ExecuteTime": {
     "end_time": "2025-04-21T09:52:11.067536Z",
     "start_time": "2025-04-21T09:52:11.063885Z"
    }
   },
   "outputs": [],
   "source": [
    "class EmotionDataset(Dataset):\n",
    "\t\"\"\"\n",
    "\tCustom PyTorch Dataset for loading facial emotion images.\n",
    "\n",
    "\tEach sample consists of:\n",
    "\t- A grayscale image loaded from a file path.\n",
    "\t- An associated emotion label.\n",
    "\n",
    "\tArgs:\n",
    "\t\timage_paths (List[str]): List of file paths to the images.\n",
    "\t\tlabels (List[int]): List of corresponding emotion labels.\n",
    "\t\ttransform (Optional[callable], optional): Optional transformation to be applied on an image.\n",
    "\t\"\"\"\n",
    "\n",
    "\tdef __init__(self, image_paths: List[str], labels: List[int], transform: Optional[callable] = None) -> None:\n",
    "\t\tself.image_paths = image_paths\n",
    "\t\tself.labels = labels\n",
    "\t\tself.transform = transform\n",
    "\n",
    "\tdef __len__(self) -> int:\n",
    "\t\t\"\"\"\n",
    "\t\tReturns the total number of samples in the dataset.\n",
    "\n",
    "\t\tReturns:\n",
    "\t\t\tint: Number of samples.\n",
    "\t\t\"\"\"\n",
    "\t\treturn len(self.image_paths)\n",
    "\n",
    "\tdef __getitem__(self, idx: int) -> Tuple[torch.Tensor, int]:\n",
    "\t\t\"\"\"\n",
    "\t\tRetrieves the image and label at the specified index.\n",
    "\n",
    "\t\tArgs:\n",
    "\t\t\tidx (int): Index of the sample to retrieve.\n",
    "\n",
    "\t\tReturns:\n",
    "\t\t\tTuple[torch.Tensor, int]: A tuple containing the image tensor and its label.\n",
    "\t\t\"\"\"\n",
    "\t\t# Load image in grayscale mode\n",
    "\t\timg_path: str = self.image_paths[idx]\n",
    "\t\timage: Image.Image = Image.open(img_path).convert('L')\n",
    "\n",
    "\t\t# Apply transformations if provided\n",
    "\t\tif self.transform:\n",
    "\t\t\timage = self.transform(image)\n",
    "\n",
    "\t\tlabel: int = self.labels[idx]\n",
    "\n",
    "\t\treturn image, label"
   ]
  },
  {
   "cell_type": "code",
   "execution_count": 4,
   "id": "ede9c1f1",
   "metadata": {
    "ExecuteTime": {
     "end_time": "2025-04-21T09:52:11.083867Z",
     "start_time": "2025-04-21T09:52:11.080864Z"
    }
   },
   "outputs": [],
   "source": [
    "\n",
    "def create_dataframe(dir: str) -> Tuple[List[str], List[str]]:\n",
    "\t\"\"\"\n",
    "\tScans a directory structure and creates lists of image file paths and their corresponding labels.\n",
    "\n",
    "\tExpected directory structure:\n",
    "\t\tdir/\n",
    "\t\t\t|-- label_1/\n",
    "\t\t\t|     |-- img1.jpg\n",
    "\t\t\t|     |-- img2.jpg\n",
    "\t\t\t|-- label_2/\n",
    "\t\t\t|     |-- img3.jpg\n",
    "\t\t\t|     |-- img4.jpg\n",
    "\n",
    "\tArgs:\n",
    "\t\tdir (str): Path to the root directory containing subdirectories for each label.\n",
    "\n",
    "\tReturns:\n",
    "\t\tTuple[List[str], List[str]]: \n",
    "\t\t\t- List of full image paths.\n",
    "\t\t\t- List of corresponding labels (as strings).\n",
    "\t\"\"\"\n",
    "\timage_paths: List[str] = []\n",
    "\tlabels: List[str] = []\n",
    "\n",
    "\t\n",
    "\tfor label in os.listdir(dir):\n",
    "\t\tlabel_dir: str = os.path.join(dir, label)\n",
    "\t\tif os.path.isdir(label_dir):  \n",
    "\t\t\tfor image_name in os.listdir(label_dir):\n",
    "\t\t\t\t# Add full image path and corresponding label\n",
    "\t\t\t\timage_paths.append(os.path.join(label_dir, image_name))\n",
    "\t\t\t\tlabels.append(label)\n",
    "\t\t\tprint(f\"{label} completed\")\n",
    "\n",
    "\treturn image_paths, labels"
   ]
  },
  {
   "cell_type": "code",
   "execution_count": 5,
   "id": "8909e632f83686e6",
   "metadata": {
    "ExecuteTime": {
     "end_time": "2025-04-21T09:52:11.090224Z",
     "start_time": "2025-04-21T09:52:11.085869Z"
    }
   },
   "outputs": [],
   "source": [
    "def get_label_idx(label_name: str) -> int:\n",
    "\t\"\"\"\n",
    "\tReturns the index of a given emotion label based on the EMOTIONS list.\n",
    "\n",
    "\tArgs:\n",
    "\t\tlabel_name (str): Name of the emotion (e.g., 'happy', 'sad').\n",
    "\n",
    "\tReturns:\n",
    "\t\tint: Corresponding index of the emotion in the EMOTIONS list.\n",
    "\t\"\"\"\n",
    "\treturn EMOTIONS.index(label_name)"
   ]
  },
  {
   "cell_type": "code",
   "execution_count": 6,
   "id": "eed5efa61d240cbb",
   "metadata": {
    "ExecuteTime": {
     "end_time": "2025-04-21T09:52:11.098594Z",
     "start_time": "2025-04-21T09:52:11.096186Z"
    }
   },
   "outputs": [],
   "source": [
    "from torchvision.transforms import RandomErasing\n",
    "\n",
    "transform = transforms.Compose([\n",
    "    transforms.Resize((IMAGE_SIZE, IMAGE_SIZE)),\n",
    "    transforms.RandomHorizontalFlip(),\n",
    "    transforms.RandomRotation(15),\n",
    "    transforms.ColorJitter(brightness=0.3, contrast=0.3),\n",
    "    transforms.ToTensor(),\n",
    "    transforms.Normalize(mean=[0.5], std=[0.5]),\n",
    "    RandomErasing(p=0.5, scale=(0.02, 0.2))\n",
    "])"
   ]
  },
  {
   "cell_type": "code",
   "execution_count": 7,
   "id": "23117ef3633c802d",
   "metadata": {
    "ExecuteTime": {
     "end_time": "2025-04-21T09:52:11.107320Z",
     "start_time": "2025-04-21T09:52:11.103696Z"
    }
   },
   "outputs": [],
   "source": [
    "from collections import Counter\n",
    "import numpy as np\n",
    "from torch.utils.data import DataLoader, WeightedRandomSampler\n",
    "\n",
    "def create_datasets() -> Tuple[\n",
    "    DataLoader,  # dl_train_coarse\n",
    "    DataLoader,  # dl_test_coarse\n",
    "    DataLoader,  # dl_train_fine\n",
    "    DataLoader   # dl_test_fine\n",
    "]:\n",
    "    \"\"\"\n",
    "    Construiește DataLoader-ele pentru:\n",
    "      - clasificarea grosieră (coarse: 4 clase)\n",
    "      - clasificarea fină  (fine: 4 clase din 'other')\n",
    "\n",
    "    Folosește WeightedRandomSampler pentru oversampling pe seturile de antrenament.\n",
    "    \"\"\"\n",
    "\n",
    "    train_paths, train_names = create_dataframe(TRAIN_DIR)\n",
    "    test_paths,  test_names  = create_dataframe(TEST_DIR)\n",
    "\n",
    "    \n",
    "    train_coarse = [get_coarse_label_idx(n) for n in train_names]\n",
    "    test_coarse  = [get_coarse_label_idx(n) for n in test_names]\n",
    "\n",
    "\n",
    "    ds_train_coarse = EmotionDataset(train_paths, train_coarse, transform)\n",
    "    ds_test_coarse  = EmotionDataset(test_paths,  test_coarse,  transform)\n",
    "\n",
    "    \n",
    "    counts_c      = Counter(train_coarse)\n",
    "    freqs_c       = np.array([counts_c[i] for i in range(len(COARSE_EMOTIONS))], dtype=float)\n",
    "    weights_c     = 1.0 / freqs_c\n",
    "    sample_weights_c = [weights_c[label] for label in train_coarse]\n",
    "    sampler_c     = WeightedRandomSampler(sample_weights_c, num_samples=len(sample_weights_c), replacement=True)\n",
    "\n",
    "    dl_train_coarse = DataLoader(\n",
    "        ds_train_coarse,\n",
    "        batch_size=BATCH_SIZE,\n",
    "        sampler=sampler_c\n",
    "    )\n",
    "    dl_test_coarse = DataLoader(\n",
    "        ds_test_coarse,\n",
    "        batch_size=BATCH_SIZE,\n",
    "        shuffle=False\n",
    "    )\n",
    "\n",
    "    \n",
    "    fine_pairs_train = [\n",
    "        (p, n) for p, n in zip(train_paths, train_names)\n",
    "        if n in FINE_EMOTIONS\n",
    "    ]\n",
    "    fine_pairs_test = [\n",
    "        (p, n) for p, n in zip(test_paths, test_names)\n",
    "        if n in FINE_EMOTIONS\n",
    "    ]\n",
    "    train_paths_f, train_names_f = zip(*fine_pairs_train)\n",
    "    test_paths_f,  test_names_f  = zip(*fine_pairs_test)\n",
    "\n",
    "    train_fine = [get_fine_label_idx(n) for n in train_names_f]\n",
    "    test_fine  = [get_fine_label_idx(n) for n in test_names_f]\n",
    "\n",
    "    ds_train_fine = EmotionDataset(list(train_paths_f), list(train_fine), transform)\n",
    "    ds_test_fine  = EmotionDataset(list(test_paths_f),  list(test_fine),  transform)\n",
    "\n",
    "    \n",
    "    counts_f        = Counter(train_fine)\n",
    "    freqs_f         = np.array([counts_f[i] for i in range(len(FINE_EMOTIONS))], dtype=float)\n",
    "    weights_f       = 1.0 / freqs_f\n",
    "    sample_weights_f = [weights_f[label] for label in train_fine]\n",
    "    sampler_f       = WeightedRandomSampler(sample_weights_f, num_samples=len(sample_weights_f), replacement=True)\n",
    "\n",
    "    dl_train_fine = DataLoader(\n",
    "        ds_train_fine,\n",
    "        batch_size=BATCH_SIZE,\n",
    "        sampler=sampler_f\n",
    "    )\n",
    "    dl_test_fine = DataLoader(\n",
    "        ds_test_fine,\n",
    "        batch_size=BATCH_SIZE,\n",
    "        shuffle=False\n",
    "    )\n",
    "\n",
    "    return dl_train_coarse, dl_test_coarse, dl_train_fine, dl_test_fine"
   ]
  },
  {
   "cell_type": "code",
   "execution_count": 8,
   "id": "68410c0d22248619",
   "metadata": {
    "ExecuteTime": {
     "end_time": "2025-04-21T09:52:11.117881Z",
     "start_time": "2025-04-21T09:52:11.112757Z"
    }
   },
   "outputs": [],
   "source": [
    "class EmotionCNN(nn.Module):\n",
    "\t\"\"\"\n",
    "\tA Convolutional Neural Network (CNN) for emotion classification from grayscale facial images.\n",
    "\n",
    "\tArchitecture Overview:\n",
    "\t- 3 convolutional blocks (Conv2D + ReLU + MaxPooling + Dropout)\n",
    "\t- Fully connected layers for feature integration and final classification.\n",
    "\n",
    "\tArgs:\n",
    "\t\tnum_classes (int): Number of output classes (default: 7).\n",
    "\t\"\"\"\n",
    "\n",
    "\tdef __init__(self, num_classes: int = 7) -> None:\n",
    "\t\tsuper(EmotionCNN, self).__init__()\n",
    "\n",
    "\t\t# First convolutional block\n",
    "\t\tself.conv1: nn.Conv2d = nn.Conv2d(in_channels=1, out_channels=128, kernel_size=3, padding=1)\n",
    "\t\tself.pool1: nn.MaxPool2d = nn.MaxPool2d(kernel_size=2, stride=2)\n",
    "\t\tself.dropout1: nn.Dropout = nn.Dropout(0.2)\n",
    "\n",
    "\t\t# Second convolutional block\n",
    "\t\tself.conv2: nn.Conv2d = nn.Conv2d(in_channels=128, out_channels=256, kernel_size=3, padding=1)\n",
    "\t\tself.pool2: nn.MaxPool2d = nn.MaxPool2d(kernel_size=2, stride=2)\n",
    "\t\tself.dropout2: nn.Dropout = nn.Dropout(0.2)\n",
    "\n",
    "\t\t# Third convolutional block\n",
    "\t\tself.conv3: nn.Conv2d = nn.Conv2d(in_channels=256, out_channels=512, kernel_size=3, padding=1)\n",
    "\t\tself.pool3: nn.MaxPool2d = nn.MaxPool2d(kernel_size=2, stride=2)\n",
    "\t\tself.dropout3: nn.Dropout = nn.Dropout(0.2)\n",
    "\n",
    "\t\t# Calculate flattened feature size\n",
    "\t\t# After 3 pooling layers (stride=2), input size reduces by a factor of 8\n",
    "\t\tself.flat_features: int = 512 * (IMAGE_SIZE // 8) * (IMAGE_SIZE // 8)\n",
    "\n",
    "\t\t# Fully connected layers\n",
    "\t\tself.fc1: nn.Linear = nn.Linear(self.flat_features, 512)\n",
    "\t\tself.dropout4: nn.Dropout = nn.Dropout(0.2)\n",
    "\t\tself.fc2: nn.Linear = nn.Linear(512, 256)\n",
    "\t\tself.dropout5: nn.Dropout = nn.Dropout(0.2)\n",
    "\t\tself.fc3: nn.Linear = nn.Linear(256, num_classes)\n",
    "\n",
    "\tdef forward(self, x: torch.Tensor) -> torch.Tensor:\n",
    "\t\t\"\"\"\n",
    "\t\tDefines the forward pass of the network.\n",
    "\n",
    "\t\tArgs:\n",
    "\t\t\tx (torch.Tensor): Input tensor of shape (batch_size, 1, 96, 96).\n",
    "\n",
    "\t\tReturns:\n",
    "\t\t\ttorch.Tensor: Output tensor of shape (batch_size, num_classes).\n",
    "\t\t\"\"\"\n",
    "\t\t# First convolutional block\n",
    "\t\tx = F.relu(self.conv1(x))\n",
    "\t\tx = self.pool1(x)\n",
    "\t\tx = self.dropout1(x)\n",
    "\n",
    "\t\t# Second convolutional block\n",
    "\t\tx = F.relu(self.conv2(x))\n",
    "\t\tx = self.pool2(x)\n",
    "\t\tx = self.dropout2(x)\n",
    "\n",
    "\t\t# Third convolutional block\n",
    "\t\tx = F.relu(self.conv3(x))\n",
    "\t\tx = self.pool3(x)\n",
    "\t\tx = self.dropout3(x)\n",
    "\n",
    "\t\t# Flatten the tensor\n",
    "\t\tx = x.view(-1, self.flat_features)\n",
    "\n",
    "\t\t# Fully connected layers\n",
    "\t\tx = F.relu(self.fc1(x))\n",
    "\t\tx = self.dropout4(x)\n",
    "\t\tx = F.relu(self.fc2(x))\n",
    "\t\tx = self.dropout5(x)\n",
    "\t\tx = self.fc3(x)  \n",
    "\n",
    "\t\treturn x"
   ]
  },
  {
   "cell_type": "code",
   "execution_count": 9,
   "id": "b005764f",
   "metadata": {
    "ExecuteTime": {
     "end_time": "2025-04-21T09:52:11.128945Z",
     "start_time": "2025-04-21T09:52:11.123350Z"
    }
   },
   "outputs": [],
   "source": [
    "def train_model(\n",
    "\tmodel: nn.Module,\n",
    "\ttrain_loader: DataLoader,\n",
    "\ttest_loader: DataLoader,\n",
    "\tcriterion: nn.Module,\n",
    "\toptimizer: torch.optim.Optimizer,\n",
    "\tnum_epochs: int\n",
    ") -> None:\n",
    "\t\"\"\"\n",
    "\tTrains and validates the model over a specified number of epochs.\n",
    "\n",
    "\tArgs:\n",
    "\t\tmodel (nn.Module): The neural network model to be trained.\n",
    "\t\ttrain_loader (DataLoader): DataLoader for the training dataset.\n",
    "\t\ttest_loader (DataLoader): DataLoader for the validation/testing dataset.\n",
    "\t\tcriterion (nn.Module): Loss function to optimize.\n",
    "\t\toptimizer (torch.optim.Optimizer): Optimizer for updating model weights.\n",
    "\t\tnum_epochs (int): Number of epochs to train the model.\n",
    "\n",
    "\tReturns:\n",
    "\t\tNone\n",
    "\t\"\"\"\n",
    "\tbest_accuracy: float = 0.0\n",
    "\n",
    "\tfor epoch in range(num_epochs):\n",
    "\t\t# Training phase\n",
    "\t\tmodel.train()\n",
    "\t\trunning_loss: float = 0.0\n",
    "\t\tcorrect: int = 0\n",
    "\t\ttotal: int = 0\n",
    "\n",
    "\t\tfor inputs, labels in tqdm(train_loader, desc=f'Epoch {epoch + 1}/{num_epochs}'):\n",
    "\t\t\tinputs = inputs.to(DEVICE)\n",
    "\t\t\tlabels = labels.to(DEVICE)\n",
    "\n",
    "\t\t\t\n",
    "\t\t\toptimizer.zero_grad()\n",
    "\n",
    "\t\t\t\n",
    "\t\t\toutputs = model(inputs)\n",
    "\t\t\tloss = criterion(outputs, labels)\n",
    "\n",
    "\t\t\t\n",
    "\t\t\tloss.backward()\n",
    "\t\t\toptimizer.step()\n",
    "\n",
    "\t\t\t# Update training statistics\n",
    "\t\t\trunning_loss += loss.item() * inputs.size(0)\n",
    "\t\t\t_, predicted = torch.max(outputs, 1)\n",
    "\t\t\ttotal += labels.size(0)\n",
    "\t\t\tcorrect += (predicted == labels).sum().item()\n",
    "\n",
    "\t\tepoch_loss: float = running_loss / len(train_loader.dataset)\n",
    "\t\tepoch_acc: float = correct / total\n",
    "\n",
    "\t\t# Validation phase\n",
    "\t\tmodel.eval()\n",
    "\t\tval_loss: float = 0.0\n",
    "\t\tval_correct: int = 0\n",
    "\t\tval_total: int = 0\n",
    "\n",
    "\t\twith torch.no_grad():\n",
    "\t\t\tfor inputs, labels in tqdm(test_loader, desc='Validation'):\n",
    "\t\t\t\tinputs = inputs.to(DEVICE)\n",
    "\t\t\t\tlabels = labels.to(DEVICE)\n",
    "\n",
    "\t\t\t\toutputs = model(inputs)\n",
    "\t\t\t\tloss = criterion(outputs, labels)\n",
    "\n",
    "\t\t\t\tval_loss += loss.item() * inputs.size(0)\n",
    "\t\t\t\t_, predicted = torch.max(outputs, 1)\n",
    "\t\t\t\tval_total += labels.size(0)\n",
    "\t\t\t\tval_correct += (predicted == labels).sum().item()\n",
    "\n",
    "\t\tval_loss = val_loss / len(test_loader.dataset)\n",
    "\t\tval_acc = val_correct / val_total\n",
    "\n",
    "\t\t\n",
    "\t\tprint(f'Epoch {epoch + 1}/{num_epochs}:')\n",
    "\t\tprint(f'Train Loss: {epoch_loss:.4f} | Train Acc: {epoch_acc:.4f}')\n",
    "\t\tprint(f'Val Loss: {val_loss:.4f} | Val Acc: {val_acc:.4f}')\n",
    "\n",
    "\t\t\n",
    "\t\tif val_acc > best_accuracy:\n",
    "\t\t\tbest_accuracy = val_acc\n",
    "\t\t\ttorch.save(model.state_dict(), 'emotion_model.pth')\n",
    "\t\t\tprint(f'Model saved with accuracy: {best_accuracy:.4f}')\n",
    "\n",
    "\tprint(f'Best validation accuracy: {best_accuracy:.4f}')"
   ]
  },
  {
   "cell_type": "code",
   "execution_count": 10,
   "id": "34db366fbbfde0c5",
   "metadata": {
    "ExecuteTime": {
     "end_time": "2025-04-21T09:52:11.137153Z",
     "start_time": "2025-04-21T09:52:11.133958Z"
    }
   },
   "outputs": [],
   "source": [
    "def predict_emotion(model: nn.Module, image_path: str) -> str:\n",
    "\t\"\"\"\n",
    "\tPredicts the emotion label for a given input image.\n",
    "\n",
    "\tArgs:\n",
    "\t\tmodel (nn.Module): Trained emotion classification model.\n",
    "\t\timage_path (str): Path to the input image file.\n",
    "\n",
    "\tReturns:\n",
    "\t\tstr: Predicted emotion label.\n",
    "\t\"\"\"\n",
    "\tmodel.eval()\n",
    "\n",
    "\t\n",
    "\timage: Image.Image = Image.open(image_path).convert('L')  # Convert to grayscale\n",
    "\timage = transform(image).unsqueeze(0).to(DEVICE)  # Apply transformations and add batch dimension\n",
    "\n",
    "\t# Perform prediction\n",
    "\twith torch.no_grad():\n",
    "\t\toutputs: torch.Tensor = model(image)\n",
    "\t\t_, predicted = torch.max(outputs, dim=1)\n",
    "\n",
    "\treturn EMOTIONS[predicted.item()]\n",
    "\n",
    "\n",
    "\n",
    "def predict_hierarchical(image_path: str,model_coarse,model_fine) -> str:\n",
    "    img = Image.open(image_path).convert('L')\n",
    "    x   = transform(img).unsqueeze(0).to(DEVICE)\n",
    "\n",
    "    model_coarse.eval()\n",
    "    with torch.no_grad():\n",
    "        out_c = model_coarse(x)\n",
    "        pred_c = torch.argmax(out_c, dim=1).item()\n",
    "        label_c = COARSE_EMOTIONS[pred_c]\n",
    "\n",
    "    if label_c != 'other':\n",
    "        return label_c\n",
    "\n",
    "    model_fine.eval()\n",
    "    with torch.no_grad():\n",
    "        out_f = model_fine(x)\n",
    "        pred_f = torch.argmax(out_f, dim=1).item()\n",
    "        return FINE_EMOTIONS[pred_f]\n"
   ]
  },
  {
   "cell_type": "code",
   "execution_count": 11,
   "id": "1d5c908b",
   "metadata": {},
   "outputs": [
    {
     "name": "stdout",
     "output_type": "stream",
     "text": [
      "angry completed\n",
      "disgust completed\n",
      "fear completed\n",
      "happy completed\n",
      "neutral completed\n",
      "sad completed\n",
      "surprise completed\n",
      "angry completed\n",
      "disgust completed\n",
      "fear completed\n",
      "happy completed\n",
      "neutral completed\n",
      "sad completed\n",
      "surprise completed\n"
     ]
    },
    {
     "data": {
      "image/png": "[encoded data removed]",
      "text/plain": [
       "<Figure size 600x500 with 1 Axes>"
      ]
     },
     "metadata": {},
     "output_type": "display_data"
    },
    {
     "data": {
      "image/png": "[encoded data removed]",
      "text/plain": [
       "<Figure size 600x500 with 1 Axes>"
      ]
     },
     "metadata": {},
     "output_type": "display_data"
    }
   ],
   "source": [
    "\n",
    "\n",
    "dl_tr_c, dl_te_c, dl_tr_f, dl_te_f = create_datasets()\n",
    "\n",
    "model_coarse = EmotionCNN(num_classes=len(COARSE_EMOTIONS)).to(DEVICE)\n",
    "model_fine   = EmotionCNN(num_classes=len(FINE_EMOTIONS)).to(DEVICE)\n",
    "model_coarse.load_state_dict(torch.load('coarse_model.pth', map_location=DEVICE))\n",
    "model_fine  .load_state_dict(torch.load('fine_model.pth', map_location=DEVICE))\n",
    "model_coarse.eval()\n",
    "model_fine.eval()\n",
    "\n",
    "\n",
    "def get_true_pred(model, dataloader):\n",
    "    true_labels, pred_labels = [], []\n",
    "    with torch.no_grad():\n",
    "        for imgs, labels in dataloader:\n",
    "            imgs = imgs.to(DEVICE)\n",
    "            outputs = model(imgs)\n",
    "            preds = outputs.argmax(dim=1).cpu().numpy()\n",
    "            true_labels.extend(labels.numpy())\n",
    "            pred_labels.extend(preds)\n",
    "    return np.array(true_labels), np.array(pred_labels)\n",
    "\n",
    "\n",
    "#  Confusion matrix MODEL COARSE\n",
    "true_c, pred_c = get_true_pred(model_coarse, dl_te_c)\n",
    "cm_c = confusion_matrix(true_c, pred_c)\n",
    "\n",
    "plt.figure(figsize=(6, 5))\n",
    "sns.heatmap(\n",
    "    cm_c,\n",
    "    annot=True,\n",
    "    fmt='d',\n",
    "    cmap='Blues',\n",
    "    cbar=False,\n",
    "    xticklabels=COARSE_EMOTIONS,\n",
    "    yticklabels=COARSE_EMOTIONS\n",
    ")\n",
    "plt.title('Coarse Model Confusion Matrix')\n",
    "plt.xlabel('Predicted Label')\n",
    "plt.ylabel('True Label')\n",
    "plt.tight_layout()\n",
    "plt.show()\n",
    "\n",
    "\n",
    "# Confusion matrix MODEL FINE\n",
    "true_f, pred_f = get_true_pred(model_fine, dl_te_f)\n",
    "cm_f = confusion_matrix(true_f, pred_f)\n",
    "\n",
    "plt.figure(figsize=(6, 5))\n",
    "sns.heatmap(\n",
    "    cm_f,\n",
    "    annot=True,\n",
    "    fmt='d',\n",
    "    cmap='Blues',\n",
    "    cbar=False,\n",
    "    xticklabels=FINE_EMOTIONS,\n",
    "    yticklabels=FINE_EMOTIONS\n",
    ")\n",
    "plt.title('Fine Model Confusion Matrix')\n",
    "plt.xlabel('Predicted Label')\n",
    "plt.ylabel('True Label')\n",
    "plt.tight_layout()\n",
    "plt.show()"
   ]
  },
  {
   "cell_type": "code",
   "execution_count": 10,
   "id": "b1304bb7fb9eeb50",
   "metadata": {
    "ExecuteTime": {
     "end_time": "2025-04-21T10:03:26.304477Z",
     "start_time": "2025-04-21T09:52:11.142674Z"
    }
   },
   "outputs": [
    {
     "name": "stdout",
     "output_type": "stream",
     "text": [
      "Using device: cuda\n",
      "\n",
      "angry completed\n",
      "disgust completed\n",
      "fear completed\n",
      "happy completed\n",
      "neutral completed\n",
      "sad completed\n",
      "surprise completed\n",
      "angry completed\n",
      "disgust completed\n",
      "fear completed\n",
      "happy completed\n",
      "neutral completed\n",
      "sad completed\n",
      "surprise completed\n",
      "▶️  Training coarse model (4 classes)…\n"
     ]
    },
    {
     "name": "stderr",
     "output_type": "stream",
     "text": [
      "Epoch 1/30: 100%|██████████| 451/451 [01:14<00:00,  6.03it/s]\n",
      "Validation: 100%|██████████| 111/111 [00:12<00:00,  8.83it/s]\n"
     ]
    },
    {
     "name": "stdout",
     "output_type": "stream",
     "text": [
      "Epoch 1/30:\n",
      "Train Loss: 1.3650 | Train Acc: 0.3098\n",
      "Val Loss: 1.3261 | Val Acc: 0.2917\n",
      "Model saved with accuracy: 0.2917\n"
     ]
    },
    {
     "name": "stderr",
     "output_type": "stream",
     "text": [
      "Epoch 2/30: 100%|██████████| 451/451 [01:08<00:00,  6.55it/s]\n",
      "Validation: 100%|██████████| 111/111 [00:10<00:00, 10.51it/s]\n"
     ]
    },
    {
     "name": "stdout",
     "output_type": "stream",
     "text": [
      "Epoch 2/30:\n",
      "Train Loss: 1.2939 | Train Acc: 0.3865\n",
      "Val Loss: 1.2635 | Val Acc: 0.3912\n",
      "Model saved with accuracy: 0.3912\n"
     ]
    },
    {
     "name": "stderr",
     "output_type": "stream",
     "text": [
      "Epoch 3/30: 100%|██████████| 451/451 [01:07<00:00,  6.64it/s]\n",
      "Validation: 100%|██████████| 111/111 [00:10<00:00, 10.47it/s]\n"
     ]
    },
    {
     "name": "stdout",
     "output_type": "stream",
     "text": [
      "Epoch 3/30:\n",
      "Train Loss: 1.2541 | Train Acc: 0.4093\n",
      "Val Loss: 1.2175 | Val Acc: 0.4349\n",
      "Model saved with accuracy: 0.4349\n"
     ]
    },
    {
     "name": "stderr",
     "output_type": "stream",
     "text": [
      "Epoch 4/30: 100%|██████████| 451/451 [01:08<00:00,  6.54it/s]\n",
      "Validation: 100%|██████████| 111/111 [00:10<00:00, 10.33it/s]\n"
     ]
    },
    {
     "name": "stdout",
     "output_type": "stream",
     "text": [
      "Epoch 4/30:\n",
      "Train Loss: 1.2129 | Train Acc: 0.4327\n",
      "Val Loss: 1.1837 | Val Acc: 0.4410\n",
      "Model saved with accuracy: 0.4410\n"
     ]
    },
    {
     "name": "stderr",
     "output_type": "stream",
     "text": [
      "Epoch 5/30: 100%|██████████| 451/451 [01:07<00:00,  6.72it/s]\n",
      "Validation: 100%|██████████| 111/111 [00:10<00:00, 10.38it/s]\n"
     ]
    },
    {
     "name": "stdout",
     "output_type": "stream",
     "text": [
      "Epoch 5/30:\n",
      "Train Loss: 1.1782 | Train Acc: 0.4584\n",
      "Val Loss: 1.1442 | Val Acc: 0.4783\n",
      "Model saved with accuracy: 0.4783\n"
     ]
    },
    {
     "name": "stderr",
     "output_type": "stream",
     "text": [
      "Epoch 6/30: 100%|██████████| 451/451 [01:06<00:00,  6.74it/s]\n",
      "Validation: 100%|██████████| 111/111 [00:10<00:00, 10.41it/s]\n"
     ]
    },
    {
     "name": "stdout",
     "output_type": "stream",
     "text": [
      "Epoch 6/30:\n",
      "Train Loss: 1.1439 | Train Acc: 0.4792\n",
      "Val Loss: 1.0970 | Val Acc: 0.5192\n",
      "Model saved with accuracy: 0.5192\n"
     ]
    },
    {
     "name": "stderr",
     "output_type": "stream",
     "text": [
      "Epoch 7/30: 100%|██████████| 451/451 [01:08<00:00,  6.61it/s]\n",
      "Validation: 100%|██████████| 111/111 [00:10<00:00, 10.24it/s]\n"
     ]
    },
    {
     "name": "stdout",
     "output_type": "stream",
     "text": [
      "Epoch 7/30:\n",
      "Train Loss: 1.1218 | Train Acc: 0.4903\n",
      "Val Loss: 1.1073 | Val Acc: 0.4856\n"
     ]
    },
    {
     "name": "stderr",
     "output_type": "stream",
     "text": [
      "Epoch 8/30: 100%|██████████| 451/451 [01:07<00:00,  6.73it/s]\n",
      "Validation: 100%|██████████| 111/111 [00:10<00:00, 10.28it/s]\n"
     ]
    },
    {
     "name": "stdout",
     "output_type": "stream",
     "text": [
      "Epoch 8/30:\n",
      "Train Loss: 1.0991 | Train Acc: 0.5065\n",
      "Val Loss: 1.0754 | Val Acc: 0.5061\n"
     ]
    },
    {
     "name": "stderr",
     "output_type": "stream",
     "text": [
      "Epoch 9/30: 100%|██████████| 451/451 [01:08<00:00,  6.58it/s]\n",
      "Validation: 100%|██████████| 111/111 [00:10<00:00, 10.59it/s]\n"
     ]
    },
    {
     "name": "stdout",
     "output_type": "stream",
     "text": [
      "Epoch 9/30:\n",
      "Train Loss: 1.0826 | Train Acc: 0.5129\n",
      "Val Loss: 1.0582 | Val Acc: 0.5314\n",
      "Model saved with accuracy: 0.5314\n"
     ]
    },
    {
     "name": "stderr",
     "output_type": "stream",
     "text": [
      "Epoch 10/30: 100%|██████████| 451/451 [01:07<00:00,  6.65it/s]\n",
      "Validation: 100%|██████████| 111/111 [00:10<00:00, 10.27it/s]\n"
     ]
    },
    {
     "name": "stdout",
     "output_type": "stream",
     "text": [
      "Epoch 10/30:\n",
      "Train Loss: 1.0587 | Train Acc: 0.5244\n",
      "Val Loss: 1.0680 | Val Acc: 0.5197\n"
     ]
    },
    {
     "name": "stderr",
     "output_type": "stream",
     "text": [
      "Epoch 11/30: 100%|██████████| 451/451 [01:07<00:00,  6.72it/s]\n",
      "Validation: 100%|██████████| 111/111 [00:10<00:00, 10.45it/s]\n"
     ]
    },
    {
     "name": "stdout",
     "output_type": "stream",
     "text": [
      "Epoch 11/30:\n",
      "Train Loss: 1.0509 | Train Acc: 0.5333\n",
      "Val Loss: 1.0750 | Val Acc: 0.4792\n"
     ]
    },
    {
     "name": "stderr",
     "output_type": "stream",
     "text": [
      "Epoch 12/30: 100%|██████████| 451/451 [01:08<00:00,  6.54it/s]\n",
      "Validation: 100%|██████████| 111/111 [00:11<00:00, 10.09it/s]\n"
     ]
    },
    {
     "name": "stdout",
     "output_type": "stream",
     "text": [
      "Epoch 12/30:\n",
      "Train Loss: 1.0284 | Train Acc: 0.5419\n",
      "Val Loss: 1.0507 | Val Acc: 0.5248\n"
     ]
    },
    {
     "name": "stderr",
     "output_type": "stream",
     "text": [
      "Epoch 13/30: 100%|██████████| 451/451 [01:07<00:00,  6.65it/s]\n",
      "Validation: 100%|██████████| 111/111 [00:10<00:00, 10.45it/s]\n"
     ]
    },
    {
     "name": "stdout",
     "output_type": "stream",
     "text": [
      "Epoch 13/30:\n",
      "Train Loss: 1.0149 | Train Acc: 0.5516\n",
      "Val Loss: 1.0421 | Val Acc: 0.5117\n"
     ]
    },
    {
     "name": "stderr",
     "output_type": "stream",
     "text": [
      "Epoch 14/30: 100%|██████████| 451/451 [01:07<00:00,  6.66it/s]\n",
      "Validation: 100%|██████████| 111/111 [00:10<00:00, 10.44it/s]\n"
     ]
    },
    {
     "name": "stdout",
     "output_type": "stream",
     "text": [
      "Epoch 14/30:\n",
      "Train Loss: 1.0109 | Train Acc: 0.5559\n",
      "Val Loss: 1.0041 | Val Acc: 0.5484\n",
      "Model saved with accuracy: 0.5484\n"
     ]
    },
    {
     "name": "stderr",
     "output_type": "stream",
     "text": [
      "Epoch 15/30: 100%|██████████| 451/451 [01:06<00:00,  6.76it/s]\n",
      "Validation: 100%|██████████| 111/111 [00:10<00:00, 10.63it/s]\n"
     ]
    },
    {
     "name": "stdout",
     "output_type": "stream",
     "text": [
      "Epoch 15/30:\n",
      "Train Loss: 0.9937 | Train Acc: 0.5656\n",
      "Val Loss: 1.0153 | Val Acc: 0.5219\n"
     ]
    },
    {
     "name": "stderr",
     "output_type": "stream",
     "text": [
      "Epoch 16/30: 100%|██████████| 451/451 [01:08<00:00,  6.60it/s]\n",
      "Validation: 100%|██████████| 111/111 [00:10<00:00, 10.68it/s]\n"
     ]
    },
    {
     "name": "stdout",
     "output_type": "stream",
     "text": [
      "Epoch 16/30:\n",
      "Train Loss: 0.9916 | Train Acc: 0.5648\n",
      "Val Loss: 0.9919 | Val Acc: 0.5440\n"
     ]
    },
    {
     "name": "stderr",
     "output_type": "stream",
     "text": [
      "Epoch 17/30: 100%|██████████| 451/451 [01:08<00:00,  6.56it/s]\n",
      "Validation: 100%|██████████| 111/111 [00:10<00:00, 10.39it/s]\n"
     ]
    },
    {
     "name": "stdout",
     "output_type": "stream",
     "text": [
      "Epoch 17/30:\n",
      "Train Loss: 0.9640 | Train Acc: 0.5759\n",
      "Val Loss: 1.0058 | Val Acc: 0.5549\n",
      "Model saved with accuracy: 0.5549\n"
     ]
    },
    {
     "name": "stderr",
     "output_type": "stream",
     "text": [
      "Epoch 18/30: 100%|██████████| 451/451 [01:06<00:00,  6.76it/s]\n",
      "Validation: 100%|██████████| 111/111 [00:10<00:00, 10.44it/s]\n"
     ]
    },
    {
     "name": "stdout",
     "output_type": "stream",
     "text": [
      "Epoch 18/30:\n",
      "Train Loss: 0.9592 | Train Acc: 0.5803\n",
      "Val Loss: 0.9733 | Val Acc: 0.5628\n",
      "Model saved with accuracy: 0.5628\n"
     ]
    },
    {
     "name": "stderr",
     "output_type": "stream",
     "text": [
      "Epoch 19/30: 100%|██████████| 451/451 [01:06<00:00,  6.78it/s]\n",
      "Validation: 100%|██████████| 111/111 [00:10<00:00, 10.64it/s]\n"
     ]
    },
    {
     "name": "stdout",
     "output_type": "stream",
     "text": [
      "Epoch 19/30:\n",
      "Train Loss: 0.9515 | Train Acc: 0.5878\n",
      "Val Loss: 1.0102 | Val Acc: 0.5209\n"
     ]
    },
    {
     "name": "stderr",
     "output_type": "stream",
     "text": [
      "Epoch 20/30: 100%|██████████| 451/451 [01:06<00:00,  6.74it/s]\n",
      "Validation: 100%|██████████| 111/111 [00:10<00:00, 10.42it/s]\n"
     ]
    },
    {
     "name": "stdout",
     "output_type": "stream",
     "text": [
      "Epoch 20/30:\n",
      "Train Loss: 0.9357 | Train Acc: 0.5924\n",
      "Val Loss: 1.0076 | Val Acc: 0.5194\n"
     ]
    },
    {
     "name": "stderr",
     "output_type": "stream",
     "text": [
      "Epoch 21/30: 100%|██████████| 451/451 [01:06<00:00,  6.76it/s]\n",
      "Validation: 100%|██████████| 111/111 [00:11<00:00, 10.09it/s]\n"
     ]
    },
    {
     "name": "stdout",
     "output_type": "stream",
     "text": [
      "Epoch 21/30:\n",
      "Train Loss: 0.9311 | Train Acc: 0.5937\n",
      "Val Loss: 0.9651 | Val Acc: 0.5676\n",
      "Model saved with accuracy: 0.5676\n"
     ]
    },
    {
     "name": "stderr",
     "output_type": "stream",
     "text": [
      "Epoch 22/30: 100%|██████████| 451/451 [01:07<00:00,  6.69it/s]\n",
      "Validation: 100%|██████████| 111/111 [00:10<00:00, 10.36it/s]\n"
     ]
    },
    {
     "name": "stdout",
     "output_type": "stream",
     "text": [
      "Epoch 22/30:\n",
      "Train Loss: 0.9157 | Train Acc: 0.6044\n",
      "Val Loss: 0.9973 | Val Acc: 0.5379\n"
     ]
    },
    {
     "name": "stderr",
     "output_type": "stream",
     "text": [
      "Epoch 23/30: 100%|██████████| 451/451 [01:06<00:00,  6.75it/s]\n",
      "Validation: 100%|██████████| 111/111 [00:10<00:00, 10.60it/s]\n"
     ]
    },
    {
     "name": "stdout",
     "output_type": "stream",
     "text": [
      "Epoch 23/30:\n",
      "Train Loss: 0.8998 | Train Acc: 0.6159\n",
      "Val Loss: 0.9941 | Val Acc: 0.5372\n"
     ]
    },
    {
     "name": "stderr",
     "output_type": "stream",
     "text": [
      "Epoch 24/30: 100%|██████████| 451/451 [01:06<00:00,  6.76it/s]\n",
      "Validation: 100%|██████████| 111/111 [00:10<00:00, 10.60it/s]\n"
     ]
    },
    {
     "name": "stdout",
     "output_type": "stream",
     "text": [
      "Epoch 24/30:\n",
      "Train Loss: 0.8995 | Train Acc: 0.6141\n",
      "Val Loss: 0.9720 | Val Acc: 0.5541\n"
     ]
    },
    {
     "name": "stderr",
     "output_type": "stream",
     "text": [
      "Epoch 25/30: 100%|██████████| 451/451 [01:06<00:00,  6.76it/s]\n",
      "Validation: 100%|██████████| 111/111 [00:10<00:00, 10.29it/s]\n"
     ]
    },
    {
     "name": "stdout",
     "output_type": "stream",
     "text": [
      "Epoch 25/30:\n",
      "Train Loss: 0.8821 | Train Acc: 0.6230\n",
      "Val Loss: 0.9717 | Val Acc: 0.5541\n"
     ]
    },
    {
     "name": "stderr",
     "output_type": "stream",
     "text": [
      "Epoch 26/30: 100%|██████████| 451/451 [01:12<00:00,  6.19it/s]\n",
      "Validation: 100%|██████████| 111/111 [00:10<00:00, 10.66it/s]\n"
     ]
    },
    {
     "name": "stdout",
     "output_type": "stream",
     "text": [
      "Epoch 26/30:\n",
      "Train Loss: 0.8766 | Train Acc: 0.6283\n",
      "Val Loss: 0.9439 | Val Acc: 0.5828\n",
      "Model saved with accuracy: 0.5828\n"
     ]
    },
    {
     "name": "stderr",
     "output_type": "stream",
     "text": [
      "Epoch 27/30: 100%|██████████| 451/451 [01:10<00:00,  6.43it/s]\n",
      "Validation: 100%|██████████| 111/111 [00:11<00:00,  9.93it/s]\n"
     ]
    },
    {
     "name": "stdout",
     "output_type": "stream",
     "text": [
      "Epoch 27/30:\n",
      "Train Loss: 0.8610 | Train Acc: 0.6306\n",
      "Val Loss: 0.9457 | Val Acc: 0.5798\n"
     ]
    },
    {
     "name": "stderr",
     "output_type": "stream",
     "text": [
      "Epoch 28/30: 100%|██████████| 451/451 [01:13<00:00,  6.10it/s]\n",
      "Validation: 100%|██████████| 111/111 [00:10<00:00, 10.26it/s]\n"
     ]
    },
    {
     "name": "stdout",
     "output_type": "stream",
     "text": [
      "Epoch 28/30:\n",
      "Train Loss: 0.8545 | Train Acc: 0.6369\n",
      "Val Loss: 0.9441 | Val Acc: 0.5815\n"
     ]
    },
    {
     "name": "stderr",
     "output_type": "stream",
     "text": [
      "Epoch 29/30: 100%|██████████| 451/451 [01:13<00:00,  6.13it/s]\n",
      "Validation: 100%|██████████| 111/111 [00:10<00:00, 10.27it/s]\n"
     ]
    },
    {
     "name": "stdout",
     "output_type": "stream",
     "text": [
      "Epoch 29/30:\n",
      "Train Loss: 0.8408 | Train Acc: 0.6428\n",
      "Val Loss: 0.9268 | Val Acc: 0.5940\n",
      "Model saved with accuracy: 0.5940\n"
     ]
    },
    {
     "name": "stderr",
     "output_type": "stream",
     "text": [
      "Epoch 30/30: 100%|██████████| 451/451 [01:13<00:00,  6.16it/s]\n",
      "Validation: 100%|██████████| 111/111 [00:10<00:00, 10.68it/s]\n"
     ]
    },
    {
     "name": "stdout",
     "output_type": "stream",
     "text": [
      "Epoch 30/30:\n",
      "Train Loss: 0.8404 | Train Acc: 0.6405\n",
      "Val Loss: 0.9816 | Val Acc: 0.5461\n",
      "Best validation accuracy: 0.5940\n",
      "✅  Saved coarse_model.pth\n",
      "\n",
      "▶️  Training fine model (4 classes: only other)…\n"
     ]
    },
    {
     "name": "stderr",
     "output_type": "stream",
     "text": [
      "Epoch 1/30: 100%|██████████| 212/212 [00:33<00:00,  6.42it/s]\n",
      "Validation: 100%|██████████| 51/51 [00:04<00:00, 10.49it/s]\n"
     ]
    },
    {
     "name": "stdout",
     "output_type": "stream",
     "text": [
      "Epoch 1/30:\n",
      "Train Loss: 1.3299 | Train Acc: 0.3712\n",
      "Val Loss: 1.2145 | Val Acc: 0.4186\n",
      "Model saved with accuracy: 0.4186\n"
     ]
    },
    {
     "name": "stderr",
     "output_type": "stream",
     "text": [
      "Epoch 2/30: 100%|██████████| 212/212 [00:32<00:00,  6.55it/s]\n",
      "Validation: 100%|██████████| 51/51 [00:05<00:00, 10.19it/s]\n"
     ]
    },
    {
     "name": "stdout",
     "output_type": "stream",
     "text": [
      "Epoch 2/30:\n",
      "Train Loss: 1.2160 | Train Acc: 0.4486\n",
      "Val Loss: 1.2028 | Val Acc: 0.4131\n"
     ]
    },
    {
     "name": "stderr",
     "output_type": "stream",
     "text": [
      "Epoch 3/30: 100%|██████████| 212/212 [00:35<00:00,  5.99it/s]\n",
      "Validation: 100%|██████████| 51/51 [00:04<00:00, 10.42it/s]\n"
     ]
    },
    {
     "name": "stdout",
     "output_type": "stream",
     "text": [
      "Epoch 3/30:\n",
      "Train Loss: 1.1784 | Train Acc: 0.4756\n",
      "Val Loss: 1.1794 | Val Acc: 0.4441\n",
      "Model saved with accuracy: 0.4441\n"
     ]
    },
    {
     "name": "stderr",
     "output_type": "stream",
     "text": [
      "Epoch 4/30: 100%|██████████| 212/212 [00:34<00:00,  6.09it/s]\n",
      "Validation: 100%|██████████| 51/51 [00:04<00:00, 10.34it/s]\n"
     ]
    },
    {
     "name": "stdout",
     "output_type": "stream",
     "text": [
      "Epoch 4/30:\n",
      "Train Loss: 1.1083 | Train Acc: 0.5104\n",
      "Val Loss: 1.0496 | Val Acc: 0.5225\n",
      "Model saved with accuracy: 0.5225\n"
     ]
    },
    {
     "name": "stderr",
     "output_type": "stream",
     "text": [
      "Epoch 5/30: 100%|██████████| 212/212 [00:33<00:00,  6.35it/s]\n",
      "Validation: 100%|██████████| 51/51 [00:04<00:00, 10.90it/s]\n"
     ]
    },
    {
     "name": "stdout",
     "output_type": "stream",
     "text": [
      "Epoch 5/30:\n",
      "Train Loss: 1.0648 | Train Acc: 0.5368\n",
      "Val Loss: 1.0430 | Val Acc: 0.5262\n",
      "Model saved with accuracy: 0.5262\n"
     ]
    },
    {
     "name": "stderr",
     "output_type": "stream",
     "text": [
      "Epoch 6/30: 100%|██████████| 212/212 [00:35<00:00,  6.02it/s]\n",
      "Validation: 100%|██████████| 51/51 [00:04<00:00, 10.92it/s]\n"
     ]
    },
    {
     "name": "stdout",
     "output_type": "stream",
     "text": [
      "Epoch 6/30:\n",
      "Train Loss: 0.9997 | Train Acc: 0.5657\n",
      "Val Loss: 1.0459 | Val Acc: 0.5225\n"
     ]
    },
    {
     "name": "stderr",
     "output_type": "stream",
     "text": [
      "Epoch 7/30: 100%|██████████| 212/212 [00:34<00:00,  6.13it/s]\n",
      "Validation: 100%|██████████| 51/51 [00:05<00:00, 10.05it/s]\n"
     ]
    },
    {
     "name": "stdout",
     "output_type": "stream",
     "text": [
      "Epoch 7/30:\n",
      "Train Loss: 0.9470 | Train Acc: 0.5982\n",
      "Val Loss: 0.9889 | Val Acc: 0.5541\n",
      "Model saved with accuracy: 0.5541\n"
     ]
    },
    {
     "name": "stderr",
     "output_type": "stream",
     "text": [
      "Epoch 8/30: 100%|██████████| 212/212 [00:33<00:00,  6.30it/s]\n",
      "Validation: 100%|██████████| 51/51 [00:04<00:00, 10.36it/s]\n"
     ]
    },
    {
     "name": "stdout",
     "output_type": "stream",
     "text": [
      "Epoch 8/30:\n",
      "Train Loss: 0.8829 | Train Acc: 0.6162\n",
      "Val Loss: 0.9673 | Val Acc: 0.5682\n",
      "Model saved with accuracy: 0.5682\n"
     ]
    },
    {
     "name": "stderr",
     "output_type": "stream",
     "text": [
      "Epoch 9/30: 100%|██████████| 212/212 [00:33<00:00,  6.29it/s]\n",
      "Validation: 100%|██████████| 51/51 [00:04<00:00, 11.03it/s]\n"
     ]
    },
    {
     "name": "stdout",
     "output_type": "stream",
     "text": [
      "Epoch 9/30:\n",
      "Train Loss: 0.8499 | Train Acc: 0.6346\n",
      "Val Loss: 0.8713 | Val Acc: 0.6252\n",
      "Model saved with accuracy: 0.6252\n"
     ]
    },
    {
     "name": "stderr",
     "output_type": "stream",
     "text": [
      "Epoch 10/30: 100%|██████████| 212/212 [00:33<00:00,  6.30it/s]\n",
      "Validation: 100%|██████████| 51/51 [00:04<00:00, 10.63it/s]\n"
     ]
    },
    {
     "name": "stdout",
     "output_type": "stream",
     "text": [
      "Epoch 10/30:\n",
      "Train Loss: 0.8111 | Train Acc: 0.6558\n",
      "Val Loss: 0.8880 | Val Acc: 0.6120\n"
     ]
    },
    {
     "name": "stderr",
     "output_type": "stream",
     "text": [
      "Epoch 11/30: 100%|██████████| 212/212 [00:34<00:00,  6.20it/s]\n",
      "Validation: 100%|██████████| 51/51 [00:04<00:00, 10.34it/s]\n"
     ]
    },
    {
     "name": "stdout",
     "output_type": "stream",
     "text": [
      "Epoch 11/30:\n",
      "Train Loss: 0.7724 | Train Acc: 0.6721\n",
      "Val Loss: 0.8624 | Val Acc: 0.6120\n"
     ]
    },
    {
     "name": "stderr",
     "output_type": "stream",
     "text": [
      "Epoch 12/30: 100%|██████████| 212/212 [00:34<00:00,  6.17it/s]\n",
      "Validation: 100%|██████████| 51/51 [00:04<00:00, 10.83it/s]\n"
     ]
    },
    {
     "name": "stdout",
     "output_type": "stream",
     "text": [
      "Epoch 12/30:\n",
      "Train Loss: 0.7443 | Train Acc: 0.6846\n",
      "Val Loss: 0.8220 | Val Acc: 0.6375\n",
      "Model saved with accuracy: 0.6375\n"
     ]
    },
    {
     "name": "stderr",
     "output_type": "stream",
     "text": [
      "Epoch 13/30: 100%|██████████| 212/212 [00:33<00:00,  6.34it/s]\n",
      "Validation: 100%|██████████| 51/51 [00:04<00:00, 10.65it/s]\n"
     ]
    },
    {
     "name": "stdout",
     "output_type": "stream",
     "text": [
      "Epoch 13/30:\n",
      "Train Loss: 0.7140 | Train Acc: 0.6952\n",
      "Val Loss: 0.8350 | Val Acc: 0.6371\n"
     ]
    },
    {
     "name": "stderr",
     "output_type": "stream",
     "text": [
      "Epoch 14/30: 100%|██████████| 212/212 [00:34<00:00,  6.08it/s]\n",
      "Validation: 100%|██████████| 51/51 [00:04<00:00, 10.78it/s]\n"
     ]
    },
    {
     "name": "stdout",
     "output_type": "stream",
     "text": [
      "Epoch 14/30:\n",
      "Train Loss: 0.6898 | Train Acc: 0.7072\n",
      "Val Loss: 0.7995 | Val Acc: 0.6476\n",
      "Model saved with accuracy: 0.6476\n"
     ]
    },
    {
     "name": "stderr",
     "output_type": "stream",
     "text": [
      "Epoch 15/30: 100%|██████████| 212/212 [00:33<00:00,  6.26it/s]\n",
      "Validation: 100%|██████████| 51/51 [00:04<00:00, 10.60it/s]\n"
     ]
    },
    {
     "name": "stdout",
     "output_type": "stream",
     "text": [
      "Epoch 15/30:\n",
      "Train Loss: 0.6717 | Train Acc: 0.7118\n",
      "Val Loss: 0.7666 | Val Acc: 0.6610\n",
      "Model saved with accuracy: 0.6610\n"
     ]
    },
    {
     "name": "stderr",
     "output_type": "stream",
     "text": [
      "Epoch 16/30: 100%|██████████| 212/212 [00:32<00:00,  6.46it/s]\n",
      "Validation: 100%|██████████| 51/51 [00:04<00:00, 10.52it/s]\n"
     ]
    },
    {
     "name": "stdout",
     "output_type": "stream",
     "text": [
      "Epoch 16/30:\n",
      "Train Loss: 0.6421 | Train Acc: 0.7227\n",
      "Val Loss: 0.8084 | Val Acc: 0.6479\n"
     ]
    },
    {
     "name": "stderr",
     "output_type": "stream",
     "text": [
      "Epoch 17/30: 100%|██████████| 212/212 [00:33<00:00,  6.28it/s]\n",
      "Validation: 100%|██████████| 51/51 [00:04<00:00, 10.53it/s]\n"
     ]
    },
    {
     "name": "stdout",
     "output_type": "stream",
     "text": [
      "Epoch 17/30:\n",
      "Train Loss: 0.6230 | Train Acc: 0.7346\n",
      "Val Loss: 0.7816 | Val Acc: 0.6638\n",
      "Model saved with accuracy: 0.6638\n"
     ]
    },
    {
     "name": "stderr",
     "output_type": "stream",
     "text": [
      "Epoch 18/30: 100%|██████████| 212/212 [00:33<00:00,  6.36it/s]\n",
      "Validation: 100%|██████████| 51/51 [00:04<00:00, 10.52it/s]\n"
     ]
    },
    {
     "name": "stdout",
     "output_type": "stream",
     "text": [
      "Epoch 18/30:\n",
      "Train Loss: 0.6079 | Train Acc: 0.7385\n",
      "Val Loss: 0.7861 | Val Acc: 0.6635\n"
     ]
    },
    {
     "name": "stderr",
     "output_type": "stream",
     "text": [
      "Epoch 19/30: 100%|██████████| 212/212 [00:32<00:00,  6.42it/s]\n",
      "Validation: 100%|██████████| 51/51 [00:04<00:00, 10.64it/s]\n"
     ]
    },
    {
     "name": "stdout",
     "output_type": "stream",
     "text": [
      "Epoch 19/30:\n",
      "Train Loss: 0.6056 | Train Acc: 0.7416\n",
      "Val Loss: 0.7535 | Val Acc: 0.6696\n",
      "Model saved with accuracy: 0.6696\n"
     ]
    },
    {
     "name": "stderr",
     "output_type": "stream",
     "text": [
      "Epoch 20/30: 100%|██████████| 212/212 [00:33<00:00,  6.37it/s]\n",
      "Validation: 100%|██████████| 51/51 [00:05<00:00, 10.16it/s]\n"
     ]
    },
    {
     "name": "stdout",
     "output_type": "stream",
     "text": [
      "Epoch 20/30:\n",
      "Train Loss: 0.5885 | Train Acc: 0.7449\n",
      "Val Loss: 0.7596 | Val Acc: 0.6699\n",
      "Model saved with accuracy: 0.6699\n"
     ]
    },
    {
     "name": "stderr",
     "output_type": "stream",
     "text": [
      "Epoch 21/30: 100%|██████████| 212/212 [00:33<00:00,  6.30it/s]\n",
      "Validation: 100%|██████████| 51/51 [00:04<00:00, 10.51it/s]\n"
     ]
    },
    {
     "name": "stdout",
     "output_type": "stream",
     "text": [
      "Epoch 21/30:\n",
      "Train Loss: 0.5627 | Train Acc: 0.7572\n",
      "Val Loss: 0.7548 | Val Acc: 0.6745\n",
      "Model saved with accuracy: 0.6745\n"
     ]
    },
    {
     "name": "stderr",
     "output_type": "stream",
     "text": [
      "Epoch 22/30: 100%|██████████| 212/212 [00:34<00:00,  6.13it/s]\n",
      "Validation: 100%|██████████| 51/51 [00:05<00:00,  9.99it/s]\n"
     ]
    },
    {
     "name": "stdout",
     "output_type": "stream",
     "text": [
      "Epoch 22/30:\n",
      "Train Loss: 0.5534 | Train Acc: 0.7590\n",
      "Val Loss: 0.7502 | Val Acc: 0.6656\n"
     ]
    },
    {
     "name": "stderr",
     "output_type": "stream",
     "text": [
      "Epoch 23/30: 100%|██████████| 212/212 [00:33<00:00,  6.33it/s]\n",
      "Validation: 100%|██████████| 51/51 [00:04<00:00, 10.76it/s]\n"
     ]
    },
    {
     "name": "stdout",
     "output_type": "stream",
     "text": [
      "Epoch 23/30:\n",
      "Train Loss: 0.5584 | Train Acc: 0.7659\n",
      "Val Loss: 0.7348 | Val Acc: 0.6828\n",
      "Model saved with accuracy: 0.6828\n"
     ]
    },
    {
     "name": "stderr",
     "output_type": "stream",
     "text": [
      "Epoch 24/30: 100%|██████████| 212/212 [00:33<00:00,  6.38it/s]\n",
      "Validation: 100%|██████████| 51/51 [00:04<00:00, 10.67it/s]\n"
     ]
    },
    {
     "name": "stdout",
     "output_type": "stream",
     "text": [
      "Epoch 24/30:\n",
      "Train Loss: 0.5482 | Train Acc: 0.7628\n",
      "Val Loss: 0.7327 | Val Acc: 0.6810\n"
     ]
    },
    {
     "name": "stderr",
     "output_type": "stream",
     "text": [
      "Epoch 25/30: 100%|██████████| 212/212 [00:33<00:00,  6.39it/s]\n",
      "Validation: 100%|██████████| 51/51 [00:04<00:00, 10.76it/s]\n"
     ]
    },
    {
     "name": "stdout",
     "output_type": "stream",
     "text": [
      "Epoch 25/30:\n",
      "Train Loss: 0.5410 | Train Acc: 0.7687\n",
      "Val Loss: 0.7314 | Val Acc: 0.6917\n",
      "Model saved with accuracy: 0.6917\n"
     ]
    },
    {
     "name": "stderr",
     "output_type": "stream",
     "text": [
      "Epoch 26/30: 100%|██████████| 212/212 [00:33<00:00,  6.35it/s]\n",
      "Validation: 100%|██████████| 51/51 [00:04<00:00, 10.51it/s]\n"
     ]
    },
    {
     "name": "stdout",
     "output_type": "stream",
     "text": [
      "Epoch 26/30:\n",
      "Train Loss: 0.5387 | Train Acc: 0.7710\n",
      "Val Loss: 0.7112 | Val Acc: 0.6886\n"
     ]
    },
    {
     "name": "stderr",
     "output_type": "stream",
     "text": [
      "Epoch 27/30: 100%|██████████| 212/212 [00:33<00:00,  6.40it/s]\n",
      "Validation: 100%|██████████| 51/51 [00:04<00:00, 10.72it/s]\n"
     ]
    },
    {
     "name": "stdout",
     "output_type": "stream",
     "text": [
      "Epoch 27/30:\n",
      "Train Loss: 0.5282 | Train Acc: 0.7696\n",
      "Val Loss: 0.7324 | Val Acc: 0.6862\n"
     ]
    },
    {
     "name": "stderr",
     "output_type": "stream",
     "text": [
      "Epoch 28/30: 100%|██████████| 212/212 [00:34<00:00,  6.18it/s]\n",
      "Validation: 100%|██████████| 51/51 [00:05<00:00, 10.11it/s]\n"
     ]
    },
    {
     "name": "stdout",
     "output_type": "stream",
     "text": [
      "Epoch 28/30:\n",
      "Train Loss: 0.5254 | Train Acc: 0.7735\n",
      "Val Loss: 0.7309 | Val Acc: 0.6914\n"
     ]
    },
    {
     "name": "stderr",
     "output_type": "stream",
     "text": [
      "Epoch 29/30: 100%|██████████| 212/212 [00:35<00:00,  6.02it/s]\n",
      "Validation: 100%|██████████| 51/51 [00:04<00:00, 10.62it/s]\n"
     ]
    },
    {
     "name": "stdout",
     "output_type": "stream",
     "text": [
      "Epoch 29/30:\n",
      "Train Loss: 0.5062 | Train Acc: 0.7850\n",
      "Val Loss: 0.7214 | Val Acc: 0.6865\n"
     ]
    },
    {
     "name": "stderr",
     "output_type": "stream",
     "text": [
      "Epoch 30/30: 100%|██████████| 212/212 [00:35<00:00,  6.01it/s]\n",
      "Validation: 100%|██████████| 51/51 [00:04<00:00, 10.39it/s]\n"
     ]
    },
    {
     "name": "stdout",
     "output_type": "stream",
     "text": [
      "Epoch 30/30:\n",
      "Train Loss: 0.4879 | Train Acc: 0.7903\n",
      "Val Loss: 0.7332 | Val Acc: 0.6905\n",
      "Best validation accuracy: 0.6917\n",
      "✅  Saved fine_model.pth\n",
      "\n",
      "▶️  Sample hierarchical predictions:\n",
      "\n",
      "angry completed\n",
      "disgust completed\n",
      "fear completed\n",
      "happy completed\n",
      "neutral completed\n",
      "sad completed\n",
      "surprise completed\n"
     ]
    },
    {
     "data": {
      "image/png": "[encoded data removed]",
      "text/plain": [
       "<Figure size 640x480 with 1 Axes>"
      ]
     },
     "metadata": {},
     "output_type": "display_data"
    },
    {
     "name": "stdout",
     "output_type": "stream",
     "text": [
      "Original: angry → Predicted: happy\n",
      "\n"
     ]
    },
    {
     "data": {
      "image/png": "[encoded data removed]",
      "text/plain": [
       "<Figure size 640x480 with 1 Axes>"
      ]
     },
     "metadata": {},
     "output_type": "display_data"
    },
    {
     "name": "stdout",
     "output_type": "stream",
     "text": [
      "Original: angry → Predicted: angry\n",
      "\n"
     ]
    },
    {
     "data": {
      "image/png": "[encoded data removed]",
      "text/plain": [
       "<Figure size 640x480 with 1 Axes>"
      ]
     },
     "metadata": {},
     "output_type": "display_data"
    },
    {
     "name": "stdout",
     "output_type": "stream",
     "text": [
      "Original: angry → Predicted: fear\n",
      "\n"
     ]
    },
    {
     "data": {
      "image/png": "[encoded data removed]",
      "text/plain": [
       "<Figure size 640x480 with 1 Axes>"
      ]
     },
     "metadata": {},
     "output_type": "display_data"
    },
    {
     "name": "stdout",
     "output_type": "stream",
     "text": [
      "Original: angry → Predicted: angry\n",
      "\n"
     ]
    },
    {
     "data": {
      "image/png": "[encoded data removed]",
      "text/plain": [
       "<Figure size 640x480 with 1 Axes>"
      ]
     },
     "metadata": {},
     "output_type": "display_data"
    },
    {
     "name": "stdout",
     "output_type": "stream",
     "text": [
      "Original: angry → Predicted: neutral\n",
      "\n"
     ]
    }
   ],
   "source": [
    "def main() -> None:\n",
    "    print(f\"Using device: {DEVICE}\\n\")\n",
    "\n",
    "   \n",
    "    dl_tr_c, dl_te_c, dl_tr_f, dl_te_f = create_datasets()\n",
    "\n",
    "   \n",
    "    model_coarse = EmotionCNN(num_classes=len(COARSE_EMOTIONS)).to(DEVICE)\n",
    "    model_fine   = EmotionCNN(num_classes=len(FINE_EMOTIONS)).to(DEVICE)\n",
    "\n",
    "    \n",
    "    criterion_c = nn.CrossEntropyLoss()\n",
    "    optimizer_c = optim.Adam(model_coarse.parameters(), lr=LEARNING_RATE)\n",
    "    criterion_f = nn.CrossEntropyLoss()\n",
    "    optimizer_f = optim.Adam(model_fine.parameters(),   lr=LEARNING_RATE)\n",
    "\n",
    "    \n",
    "    print(\"▶️  Training coarse model (4 classes)…\")\n",
    "    train_model(\n",
    "        model_coarse,\n",
    "        dl_tr_c, dl_te_c,\n",
    "        criterion_c, optimizer_c,\n",
    "        NUM_EPOCHS\n",
    "    )\n",
    "    torch.save(model_coarse.state_dict(), \"coarse_model.pth\")\n",
    "    print(\"✅  Saved coarse_model.pth\\n\")\n",
    "\n",
    "   \n",
    "    print(\"▶️  Training fine model (4 classes: only other)…\")\n",
    "    train_model(\n",
    "        model_fine,\n",
    "        dl_tr_f, dl_te_f,\n",
    "        criterion_f, optimizer_f,\n",
    "        NUM_EPOCHS\n",
    "    )\n",
    "    torch.save(model_fine.state_dict(), \"fine_model.pth\")\n",
    "    print(\"✅  Saved fine_model.pth\\n\")\n",
    "\n",
    "   \n",
    "    model_coarse.load_state_dict(torch.load(\"coarse_model.pth\", map_location=DEVICE))\n",
    "    model_fine  .load_state_dict(torch.load(\"fine_model.pth\", map_location=DEVICE))\n",
    "\n",
    "    \n",
    "    print(\"▶️  Sample hierarchical predictions:\\n\")\n",
    "    test_paths, test_labels = create_dataframe(TEST_DIR)\n",
    "    sample_idxs = [0, 10, 20, 30, 40]  \n",
    "    for idx in sample_idxs:\n",
    "        img_path = test_paths[idx]\n",
    "        true_lbl = test_labels[idx]\n",
    "        img = Image.open(img_path).convert('L')\n",
    "        x   = transform(img).unsqueeze(0).to(DEVICE)\n",
    "\n",
    "        \n",
    "        model_coarse.eval()\n",
    "        with torch.no_grad():\n",
    "            out_c  = model_coarse(x)\n",
    "            p_c    = torch.argmax(out_c, dim=1).item()\n",
    "            lbl_c  = COARSE_EMOTIONS[p_c]\n",
    "\n",
    "       \n",
    "        if lbl_c != 'other':\n",
    "            pred_lbl = lbl_c\n",
    "        else:\n",
    "            model_fine.eval()\n",
    "            with torch.no_grad():\n",
    "                out_f    = model_fine(x)\n",
    "                p_f      = torch.argmax(out_f, dim=1).item()\n",
    "                pred_lbl = FINE_EMOTIONS[p_f]\n",
    "\n",
    "       \n",
    "        plt.imshow(img, cmap='gray')\n",
    "        plt.title(f\"True: {true_lbl.capitalize()} | Pred: {pred_lbl.capitalize()}\")\n",
    "        plt.axis('off')\n",
    "        plt.show()\n",
    "        print(f\"Original: {true_lbl} → Predicted: {pred_lbl}\\n\")\n",
    "\n",
    "if __name__ == \"__main__\":\n",
    "    main()\n"
   ]
  }
 ],
 "metadata": {
  "kernelspec": {
   "display_name": "Python 3",
   "language": "python",
   "name": "python3"
  },
  "language_info": {
   "codemirror_mode": {
    "name": "ipython",
    "version": 3
   },
   "file_extension": ".py",
   "mimetype": "text/x-python",
   "name": "python",
   "nbconvert_exporter": "python",
   "pygments_lexer": "ipython3",
   "version": "3.12.4"
  }
 },
 "nbformat": 4,
 "nbformat_minor": 5
}
